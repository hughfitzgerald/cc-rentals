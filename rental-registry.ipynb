{
 "cells": [
  {
   "cell_type": "code",
   "execution_count": 3,
   "metadata": {},
   "outputs": [],
   "source": [
    "# run this to read in the rent registry\n",
    "\n",
    "import pandas as pd\n",
    "import numpy as np\n",
    "import usaddress\n",
    "\n",
    "def cleanAddressLine1(a):\n",
    "    if pd.isna(a):\n",
    "        return ''\n",
    "    if isinstance(a,str) and '10144 CULVER CITY' in a:\n",
    "        return '10144 CULVER BLVD'\n",
    "    if isinstance(a,str) and '3959 AND 3961 BENTLEY AVE' in a:\n",
    "        return '3959-3961 BENTLEY AVE'\n",
    "    if isinstance(a,str) and '4222 & 4224 JASMINE AVE' in a:\n",
    "        return '4222-4224 JASMINE AVE'\n",
    "    if isinstance(a,str) and '4070 LAFAYETTE PL # House B' in a:\n",
    "        return '4070 LAFAYETTE PL House B'\n",
    "    if isinstance(a,str) and '4350-68 OVERLOAD AVE' in a:\n",
    "        return '4350-68 OVERLAND AVE'\n",
    "    if isinstance(a,str) and 'Do not own a rental property in Culver City' in a:\n",
    "        return ''\n",
    "    tagged_address, address_type= usaddress.tag(str(a))\n",
    "    if 'StreetNamePostType' not in tagged_address.keys():\n",
    "        return ' '.join([tagged_address['AddressNumber'], tagged_address['StreetName']])\n",
    "    else:\n",
    "        return ' '.join([tagged_address['AddressNumber'], tagged_address['StreetName'], tagged_address['StreetNamePostType']])\n",
    "\n",
    "fn = 'Rent Registry_PRA 22-496.xlsx'\n",
    "#fn = 'test.xlsx'\n",
    "ccrr = pd.read_excel(fn)\n",
    "#ccrr['AddressLine1'] = ccrr['AddressLine1'].str.replace('10144 CULVER CITY','10144 CULVER BLVD')\n",
    "ccrr['AddressLine1'] = ccrr['AddressLine1'].apply(cleanAddressLine1)\n",
    "ccrr = ccrr.sort_values(by='PastRentReportDate',ascending=False).reset_index()\n",
    "\n",
    "\n",
    "    "
   ]
  },
  {
   "cell_type": "code",
   "execution_count": 74,
   "metadata": {},
   "outputs": [],
   "source": [
    "from geocodio import GeocodioClient\n",
    "import time\n",
    "\n",
    "key = 'd8f821033f22f02a2d80862a2286d6d2803dd2a'\n",
    "client = GeocodioClient(key)\n",
    "\n",
    "# run this to geocode all the addresses in the rent registry\n",
    "# make sure you use the exact same usaddress format as below in the \"address\" variable\n",
    "existing_geocode = pd.read_csv('cc_geocoded.csv')\n",
    "addresses = ccrr.drop_duplicates(['AddressLine1'])['AddressLine1']\n",
    "#addresses = addresses.apply(cleanAddressLine1).drop_duplicates()\n",
    "headers = ['address','lat','lon']\n",
    "geocoded = existing_geocode.copy()\n",
    "l = 0\n",
    "addresses_to_geocode = []\n",
    "for address in addresses:\n",
    "    if address == '':\n",
    "        continue\n",
    "    elif address in existing_geocode['address'].values:\n",
    "        continue\n",
    "    addresses_to_geocode.append(address)\n",
    "\n",
    "    l += 1\n",
    "    if l > 10000:\n",
    "        break\n",
    "\n",
    "if len(addresses_to_geocode) > 0:\n",
    "    geocoded_location = client.batch_geocode([s + ', CULVER CITY, CA' for s in addresses_to_geocode])\n",
    "    coords = geocoded_location.coords\n",
    "    #coords = []\n",
    "    #for address in addresses_to_geocode:\n",
    "    #    lat = l*20\n",
    "    #    lon = l*2+3\n",
    "    #    l += 1\n",
    "    #    coords.append((lat,lon))\n",
    "    #print(coords)\n",
    "\n",
    "    i = 0\n",
    "    for address in addresses_to_geocode:\n",
    "        if coords[i] == None:\n",
    "            geocoded = pd.concat([geocoded,pd.DataFrame([[address, '', '']],columns=headers)])\n",
    "        else:\n",
    "            geocoded = pd.concat([geocoded,pd.DataFrame([[address, coords[i][0], coords[i][1]]],columns=headers)])\n",
    "        i += 1\n",
    "\n",
    "    existing_geocode.to_csv('cc_geocoded_backup-' + time.strftime(\"%Y%m%d-%H%M%S\") + '.csv',index=False)\n",
    "    geocoded.to_csv('cc_geocoded.csv',index=False)\n",
    "    "
   ]
  },
  {
   "cell_type": "code",
   "execution_count": 68,
   "metadata": {},
   "outputs": [
    {
     "name": "stdout",
     "output_type": "stream",
     "text": [
      "(3625,)\n",
      "(2896,)\n"
     ]
    }
   ],
   "source": [
    "addresses = ccrr.drop_duplicates(['AddressLine1'])['AddressLine1']\n",
    "print(addresses.shape)\n",
    "addresses = addresses.apply(cleanAddressLine1).drop_duplicates()\n",
    "print(addresses.shape)"
   ]
  },
  {
   "cell_type": "code",
   "execution_count": 4,
   "metadata": {},
   "outputs": [],
   "source": [
    "existing_geocode = pd.read_csv('cc_geocoded.csv')"
   ]
  },
  {
   "cell_type": "code",
   "execution_count": 7,
   "metadata": {},
   "outputs": [
    {
     "data": {
      "text/plain": [
       "2012    34.021223\n",
       "Name: lat, dtype: float64"
      ]
     },
     "execution_count": 7,
     "metadata": {},
     "output_type": "execute_result"
    }
   ],
   "source": [
    "existing_geocode[existing_geocode['address'] == address]"
   ]
  },
  {
   "cell_type": "code",
   "execution_count": 42,
   "metadata": {},
   "outputs": [],
   "source": [
    "# THIS ONE CREATES A GEOJSON\n",
    "\n",
    "import usaddress\n",
    "import datetime\n",
    "import time\n",
    "import orjson\n",
    "\n",
    "export_json = dict()\n",
    "export_json['type'] = 'FeatureCollection'\n",
    "features = []\n",
    "addresses = []\n",
    "\n",
    "flat_json = dict()\n",
    "flat_json['type'] = 'FeatureCollection'\n",
    "flat_features = []\n",
    "\n",
    "existing_geocode = pd.read_csv('cc_geocoded.csv')\n",
    "\n",
    "for index, row in ccrr.drop_duplicates(['AddressLine1','UnitNumb']).iterrows():\n",
    "    #TODO: figure out the structure of your JSON\n",
    "    # I think we want it to be a dictionary of AddressLine1's (and separately we've got a csv that has three columns: addressline1, long, lat)\n",
    "    # then within that there's a dictionary of features... one of them is a list of units\n",
    "    # each unit is a dictionary that stores info on a unit, rent history, current rent, beds/baths, etc.\n",
    "    # OR do we want it stuctured closer to how I want to display it?\n",
    "    # OR is it more flat so I can use database calls from the JavaScript itself? (i.e., select the 3 beds so we can group by beds when we display?)\n",
    "    # MAYBE this is creating a JSON that can be displayed on my map and separately I have function to revamp the data for analysis\n",
    "    # \n",
    "    if pd.isna(row['AddressLine1']):\n",
    "        continue\n",
    "    \n",
    "\n",
    "    line1 = row['AddressLine1']\n",
    "    line2 = row['AddressLine2']\n",
    "    unit = row['UnitNumb']\n",
    "    beds = row['NumofBeds']\n",
    "    baths = row['NumOfBaths']\n",
    "    built = row['YearBuilt']\n",
    "    rent = row['RentAmount']\n",
    "    if pd.isna(row['PastRentReportDate']):\n",
    "        rentdate = ''\n",
    "    else:\n",
    "        rentdate = row['PastRentReportDate'].strftime('%Y/%m/%d')\n",
    "    encumbered = row['EmcumberedUnit']\n",
    "    status = row['Unit Status']\n",
    "    \n",
    "    address = line1\n",
    "    if address == '':\n",
    "        continue\n",
    "    \n",
    "    #create geojson for display of addresses only\n",
    "    if address not in addresses:\n",
    "        addresses.append(address)\n",
    "        geo = existing_geocode[existing_geocode['address'] == address]\n",
    "        feature = dict()\n",
    "        feature['type'] = 'Feature'\n",
    "\n",
    "        feature['geometry'] = {\n",
    "            'type':'Point',\n",
    "            'coordinates':[geo['lon'].values[0].item(),geo['lat'].values[0].item()]\n",
    "        }\n",
    "        \n",
    "        feature['properties'] = {\n",
    "            'address':address,\n",
    "            'units':[[unit, beds, baths, built, rent, rentdate, encumbered, status]],\n",
    "            'beds':[beds],\n",
    "            'rent':[rent],\n",
    "            'rentdate':[rentdate],\n",
    "            'encumbered':[encumbered == \"Yes\"],\n",
    "            'vacant':[status == 'Vacant']\n",
    "            }\n",
    "        features.append(feature)\n",
    "    else:\n",
    "        for f in features:\n",
    "            if f['properties']['address'] == address:\n",
    "                f['properties']['units'].append([unit, beds, baths, built, rent, rentdate, encumbered, status])\n",
    "                f['properties']['beds'].append(beds)\n",
    "                f['properties']['rent'].append(rent)\n",
    "                f['properties']['rentdate'].append(rentdate)\n",
    "                f['properties']['encumbered'].append(encumbered == \"Yes\")\n",
    "                f['properties']['vacant'].append(status == \"Vacant\")\n",
    "                break\n",
    "    \n",
    "    #create flat_json with a feature for every unit\n",
    "    flat = dict()\n",
    "    flat['type'] = 'Feature'\n",
    "\n",
    "    geo = existing_geocode[existing_geocode['address'] == address]\n",
    "    flat['geometry'] = {\n",
    "        'type':'Point',\n",
    "        'coordinates':[geo['lon'].values[0].item(),geo['lat'].values[0].item()]\n",
    "    }\n",
    "\n",
    "    flat['properties'] = {\n",
    "        'address':address,\n",
    "        'unit':unit,\n",
    "        'beds':beds,\n",
    "        'baths':baths,\n",
    "        'built':built,\n",
    "        'rent':rent,\n",
    "        'rentdate':rentdate,\n",
    "        'encumbered':encumbered,\n",
    "        'status':status\n",
    "    }\n",
    "    flat_features.append(flat)\n",
    "\n",
    "\n",
    "\n",
    "for f in features:\n",
    "    if 'rent' in f['properties'].keys():\n",
    "        f['properties']['maxRent'] = max(f['properties']['rent'])\n",
    "        f['properties']['minRent'] = min(f['properties']['rent'])\n",
    "    if 'beds' in f['properties'].keys():\n",
    "        f['properties']['maxBeds'] = max(f['properties']['beds'])\n",
    "        f['properties']['minBeds'] = min(f['properties']['beds'])\n",
    "    if 'rentdate' in f['properties'].keys():\n",
    "        f['properties']['maxRentDate'] = max(f['properties']['rentdate'])\n",
    "        f['properties']['minRentDate'] = min(f['properties']['rentdate'])\n",
    "    if 'encumbered' in f['properties'].keys():\n",
    "        f['properties']['any_encumbered'] = any(f['properties']['encumbered'])\n",
    "        f['properties']['all_encumbered'] = all(f['properties']['encumbered'])\n",
    "    if 'vacant' in f['properties'].keys():\n",
    "        f['properties']['any_vacant'] = any(f['properties']['vacant'])\n",
    "        f['properties']['all_vacant'] = all(f['properties']['vacant'])\n",
    "\n",
    "#TODO: maybe delete the lists when we're done??? \n",
    "\n",
    "\n",
    "export_json['features'] = features\n",
    "flat_json['features'] = flat_features\n",
    "\n",
    "with open(\"ccrr-\" + time.strftime(\"%Y%m%d-%H%M%S\") + \".json\", \"wb\") as f:\n",
    "    f.write(orjson.dumps(export_json))\n",
    "with open(\"ccrr-flat-\" + time.strftime(\"%Y%m%d-%H%M%S\") + \".json\", \"wb\") as f:\n",
    "    f.write(orjson.dumps(flat_json))"
   ]
  },
  {
   "cell_type": "code",
   "execution_count": 39,
   "metadata": {},
   "outputs": [
    {
     "data": {
      "text/plain": [
       "2895"
      ]
     },
     "execution_count": 39,
     "metadata": {},
     "output_type": "execute_result"
    }
   ],
   "source": [
    "len(export_json['features'])"
   ]
  },
  {
   "cell_type": "code",
   "execution_count": 27,
   "metadata": {},
   "outputs": [
    {
     "data": {
      "text/plain": [
       "2895"
      ]
     },
     "execution_count": 27,
     "metadata": {},
     "output_type": "execute_result"
    }
   ],
   "source": [
    "import sys\n",
    "sys.getsizeof(export_json['features'][0])*len(export_json['features'])\n",
    "len(addresses)"
   ]
  },
  {
   "cell_type": "code",
   "execution_count": 25,
   "metadata": {},
   "outputs": [
    {
     "data": {
      "text/plain": [
       "(2896, 12)"
      ]
     },
     "execution_count": 25,
     "metadata": {},
     "output_type": "execute_result"
    }
   ],
   "source": [
    "ccrr.drop_duplicates(['AddressLine1']).shape"
   ]
  },
  {
   "cell_type": "code",
   "execution_count": 29,
   "metadata": {},
   "outputs": [
    {
     "data": {
      "text/plain": [
       "2895"
      ]
     },
     "execution_count": 29,
     "metadata": {},
     "output_type": "execute_result"
    }
   ],
   "source": [
    "len(export_json['features'])"
   ]
  },
  {
   "cell_type": "code",
   "execution_count": 160,
   "metadata": {},
   "outputs": [],
   "source": [
    "# OLDD!!! run this to create the json that contains the data to be displayed (this doesn't do GeoJSON... look above for that)\n",
    "\n",
    "import usaddress\n",
    "import datetime\n",
    "import time\n",
    "import orjson\n",
    "\n",
    "export_json = dict()\n",
    "\n",
    "for index, row in ccrr.drop_duplicates(['AddressLine1','UnitNumb']).iterrows():\n",
    "    #TODO: figure out the structure of your JSON\n",
    "    # I think we want it to be a dictionary of AddressLine1's (and separately we've got a csv that has three columns: addressline1, long, lat)\n",
    "    # then within that there's a dictionary of features... one of them is a list of units\n",
    "    # each unit is a dictionary that stores info on a unit, rent history, current rent, beds/baths, etc.\n",
    "    # OR do we want it stuctured closer to how I want to display it?\n",
    "    # OR is it more flat so I can use database calls from the JavaScript itself? (i.e., select the 3 beds so we can group by beds when we display?)\n",
    "    # MAYBE this is creating a JSON that can be displayed on my map and separately I have function to revamp the data for analysis\n",
    "    # \n",
    "    if pd.isna(row['AddressLine1']):\n",
    "        continue\n",
    "    \n",
    "    line1 = row['AddressLine1']\n",
    "    line2 = row['AddressLine2']\n",
    "    unit = row['UnitNumb']\n",
    "    beds = row['NumofBeds']\n",
    "    baths = row['NumOfBaths']\n",
    "    built = row['YearBuilt']\n",
    "    rent = row['RentAmount']\n",
    "    if pd.isna(row['PastRentReportDate']):\n",
    "        rentdate = ''\n",
    "    else:\n",
    "        rentdate = row['PastRentReportDate'].strftime('%Y/%m/%d')\n",
    "    encumbered = row['EmcumberedUnit']\n",
    "    status = row['Unit Status']\n",
    "    \n",
    "    \n",
    "    #if isinstance(line1,str) and '3959 AND 3961 BENTLEY AVE' in line1:\n",
    "    #    line1 = '3959-3961 BENTLEY AVE'\n",
    "    #elif isinstance(line1,str) and '4222 & 4224 JASMINE AVE' in line1:\n",
    "    #    line1 = '4222-4224 JASMINE AVE'\n",
    "    #elif isinstance(line1,str) and '4070 LAFAYETTE PL # House B' in line1:\n",
    "    #    line1 = '4070 LAFAYETTE PL House B'\n",
    "    #elif isinstance(line1,str) and 'Do not own a rental property in Culver City' in line1:\n",
    "    #    continue\n",
    "    #if pd.isna(line2):\n",
    "    #    line2 = ''\n",
    "    #tagged_address, address_type= usaddress.tag(str(line1)+', '+str(line2))\n",
    "    #\n",
    "    #if ('StreetNamePostType' or 'StreetName' or 'AddressNumber') not in tagged_address.keys():\n",
    "    #    print(tagged_address)\n",
    "    #if 'StreetNamePostType' not in tagged_address.keys():\n",
    "    #    address = ' '.join([tagged_address['AddressNumber'], tagged_address['StreetName']])\n",
    "    #else:\n",
    "    #    address = ' '.join([tagged_address['AddressNumber'], tagged_address['StreetName'], tagged_address['StreetNamePostType']])\n",
    "    \n",
    "    address = line1\n",
    "    if address == '':\n",
    "        continue\n",
    "    \n",
    "    if address not in export_json.keys():\n",
    "        export_json[address] = []\n",
    "    export_json[address].append([unit, beds, baths, built, rent, rentdate, encumbered, status])\n",
    "\n",
    "with open(\"ccrr-\" + time.strftime(\"%Y%m%d-%H%M%S\") + \".json\", \"wb\") as f:\n",
    "    f.write(orjson.dumps(export_json))"
   ]
  },
  {
   "cell_type": "code",
   "execution_count": 134,
   "metadata": {},
   "outputs": [
    {
     "data": {
      "text/plain": [
       "odict_keys(['AddressNumber', 'StreetName', 'StreetNamePostType', 'PlaceName', 'StateName', 'ZipCode'])"
      ]
     },
     "execution_count": 134,
     "metadata": {},
     "output_type": "execute_result"
    }
   ],
   "source": [
    "tagged_address.keys()"
   ]
  },
  {
   "cell_type": "code",
   "execution_count": 115,
   "metadata": {},
   "outputs": [],
   "source": [
    "import usaddress\n",
    "import time\n",
    "import datetime\n",
    "import orjson \n",
    "\n",
    "line1 = '4900  OVERLAND AVE  UNIT 396'\n",
    "line2 = 'CULVER CITY, CA 90230-4299'\n",
    "unit = 396\n",
    "beds = 2\n",
    "baths = 2\n",
    "built = 1973\n",
    "rent = 2725\n",
    "rentdate = datetime.datetime.strptime('06/18/2022','%m/%d/%Y').date()\n",
    "encumbered = \"No\"\n",
    "status = \"Rented\"\n",
    "export_json = dict()\n",
    "\n",
    "tagged_address, address_type= usaddress.tag(line1+', '+line2)\n",
    "\n",
    "address = ' '.join([tagged_address['AddressNumber'], tagged_address['StreetName'], tagged_address['StreetNamePostType']])\n",
    "export_json[address] = [unit, beds, baths, built, rent, rentdate, encumbered, status]\n",
    "\n",
    "with open(\"ccrr-\" + time.strftime(\"%Y%m%d-%H%M%S\") + \".json\", \"wb\") as f:\n",
    "    f.write(orjson.dumps(export_json))\n"
   ]
  },
  {
   "cell_type": "code",
   "execution_count": 114,
   "metadata": {},
   "outputs": [
    {
     "data": {
      "text/plain": [
       "'20230129-201338'"
      ]
     },
     "execution_count": 114,
     "metadata": {},
     "output_type": "execute_result"
    }
   ],
   "source": [
    "time.strftime(\"%Y%m%d-%H%M%S\")"
   ]
  },
  {
   "cell_type": "code",
   "execution_count": 94,
   "metadata": {},
   "outputs": [
    {
     "name": "stderr",
     "output_type": "stream",
     "text": [
      "<ipython-input-94-541f0dd35c04>:5: UserWarning: This pattern is interpreted as a regular expression, and has match groups. To actually get the groups, use str.extract.\n",
      "  subset = ccrr[(ccrr['AddressLine1'].str.contains(address)) & ((ccrr['UnitNumb']==unit_number)|(ccrr['UnitNumb'].str.contains(str(unit_number)))) & (ccrr['PastRentReportDate'].notna())]\n"
     ]
    },
    {
     "ename": "error",
     "evalue": "nothing to repeat at position 0",
     "output_type": "error",
     "traceback": [
      "\u001b[1;31m---------------------------------------------------------------------------\u001b[0m",
      "\u001b[1;31merror\u001b[0m                                     Traceback (most recent call last)",
      "\u001b[1;32m<ipython-input-94-541f0dd35c04>\u001b[0m in \u001b[0;36m<module>\u001b[1;34m\u001b[0m\n\u001b[0;32m      3\u001b[0m     \u001b[0maddress\u001b[0m \u001b[1;33m=\u001b[0m \u001b[0mrow\u001b[0m\u001b[1;33m[\u001b[0m\u001b[1;34m'AddressLine1'\u001b[0m\u001b[1;33m]\u001b[0m\u001b[1;33m\u001b[0m\u001b[1;33m\u001b[0m\u001b[0m\n\u001b[0;32m      4\u001b[0m     \u001b[0munit_number\u001b[0m \u001b[1;33m=\u001b[0m \u001b[0mrow\u001b[0m\u001b[1;33m[\u001b[0m\u001b[1;34m'UnitNumb'\u001b[0m\u001b[1;33m]\u001b[0m\u001b[1;33m\u001b[0m\u001b[1;33m\u001b[0m\u001b[0m\n\u001b[1;32m----> 5\u001b[1;33m     \u001b[0msubset\u001b[0m \u001b[1;33m=\u001b[0m \u001b[0mccrr\u001b[0m\u001b[1;33m[\u001b[0m\u001b[1;33m(\u001b[0m\u001b[0mccrr\u001b[0m\u001b[1;33m[\u001b[0m\u001b[1;34m'AddressLine1'\u001b[0m\u001b[1;33m]\u001b[0m\u001b[1;33m.\u001b[0m\u001b[0mstr\u001b[0m\u001b[1;33m.\u001b[0m\u001b[0mcontains\u001b[0m\u001b[1;33m(\u001b[0m\u001b[0maddress\u001b[0m\u001b[1;33m)\u001b[0m\u001b[1;33m)\u001b[0m \u001b[1;33m&\u001b[0m \u001b[1;33m(\u001b[0m\u001b[1;33m(\u001b[0m\u001b[0mccrr\u001b[0m\u001b[1;33m[\u001b[0m\u001b[1;34m'UnitNumb'\u001b[0m\u001b[1;33m]\u001b[0m\u001b[1;33m==\u001b[0m\u001b[0munit_number\u001b[0m\u001b[1;33m)\u001b[0m\u001b[1;33m|\u001b[0m\u001b[1;33m(\u001b[0m\u001b[0mccrr\u001b[0m\u001b[1;33m[\u001b[0m\u001b[1;34m'UnitNumb'\u001b[0m\u001b[1;33m]\u001b[0m\u001b[1;33m.\u001b[0m\u001b[0mstr\u001b[0m\u001b[1;33m.\u001b[0m\u001b[0mcontains\u001b[0m\u001b[1;33m(\u001b[0m\u001b[0mstr\u001b[0m\u001b[1;33m(\u001b[0m\u001b[0munit_number\u001b[0m\u001b[1;33m)\u001b[0m\u001b[1;33m)\u001b[0m\u001b[1;33m)\u001b[0m\u001b[1;33m)\u001b[0m \u001b[1;33m&\u001b[0m \u001b[1;33m(\u001b[0m\u001b[0mccrr\u001b[0m\u001b[1;33m[\u001b[0m\u001b[1;34m'PastRentReportDate'\u001b[0m\u001b[1;33m]\u001b[0m\u001b[1;33m.\u001b[0m\u001b[0mnotna\u001b[0m\u001b[1;33m(\u001b[0m\u001b[1;33m)\u001b[0m\u001b[1;33m)\u001b[0m\u001b[1;33m]\u001b[0m\u001b[1;33m\u001b[0m\u001b[1;33m\u001b[0m\u001b[0m\n\u001b[0m\u001b[0;32m      6\u001b[0m     \u001b[0msubset\u001b[0m \u001b[1;33m=\u001b[0m \u001b[0msubset\u001b[0m\u001b[1;33m.\u001b[0m\u001b[0msort_values\u001b[0m\u001b[1;33m(\u001b[0m\u001b[0mby\u001b[0m\u001b[1;33m=\u001b[0m\u001b[1;34m'PastRentReportDate'\u001b[0m\u001b[1;33m,\u001b[0m\u001b[0mascending\u001b[0m\u001b[1;33m=\u001b[0m\u001b[1;32mFalse\u001b[0m\u001b[1;33m)\u001b[0m\u001b[1;33m.\u001b[0m\u001b[0mreset_index\u001b[0m\u001b[1;33m(\u001b[0m\u001b[1;33m)\u001b[0m\u001b[1;33m\u001b[0m\u001b[1;33m\u001b[0m\u001b[0m\n\u001b[0;32m      7\u001b[0m     \u001b[0ma\u001b[0m \u001b[1;33m=\u001b[0m \u001b[0msubset\u001b[0m\u001b[1;33m\u001b[0m\u001b[1;33m\u001b[0m\u001b[0m\n",
      "\u001b[1;32mc:\\Users\\jones\\AppData\\Local\\Programs\\Python\\Python39\\lib\\site-packages\\pandas\\core\\strings\\accessor.py\u001b[0m in \u001b[0;36mwrapper\u001b[1;34m(self, *args, **kwargs)\u001b[0m\n\u001b[0;32m    123\u001b[0m                 )\n\u001b[0;32m    124\u001b[0m                 \u001b[1;32mraise\u001b[0m \u001b[0mTypeError\u001b[0m\u001b[1;33m(\u001b[0m\u001b[0mmsg\u001b[0m\u001b[1;33m)\u001b[0m\u001b[1;33m\u001b[0m\u001b[1;33m\u001b[0m\u001b[0m\n\u001b[1;32m--> 125\u001b[1;33m             \u001b[1;32mreturn\u001b[0m \u001b[0mfunc\u001b[0m\u001b[1;33m(\u001b[0m\u001b[0mself\u001b[0m\u001b[1;33m,\u001b[0m \u001b[1;33m*\u001b[0m\u001b[0margs\u001b[0m\u001b[1;33m,\u001b[0m \u001b[1;33m**\u001b[0m\u001b[0mkwargs\u001b[0m\u001b[1;33m)\u001b[0m\u001b[1;33m\u001b[0m\u001b[1;33m\u001b[0m\u001b[0m\n\u001b[0m\u001b[0;32m    126\u001b[0m \u001b[1;33m\u001b[0m\u001b[0m\n\u001b[0;32m    127\u001b[0m         \u001b[0mwrapper\u001b[0m\u001b[1;33m.\u001b[0m\u001b[0m__name__\u001b[0m \u001b[1;33m=\u001b[0m \u001b[0mfunc_name\u001b[0m\u001b[1;33m\u001b[0m\u001b[1;33m\u001b[0m\u001b[0m\n",
      "\u001b[1;32mc:\\Users\\jones\\AppData\\Local\\Programs\\Python\\Python39\\lib\\site-packages\\pandas\\core\\strings\\accessor.py\u001b[0m in \u001b[0;36mcontains\u001b[1;34m(self, pat, case, flags, na, regex)\u001b[0m\n\u001b[0;32m   1212\u001b[0m         \u001b[0mdtype\u001b[0m\u001b[1;33m:\u001b[0m \u001b[0mbool\u001b[0m\u001b[1;33m\u001b[0m\u001b[1;33m\u001b[0m\u001b[0m\n\u001b[0;32m   1213\u001b[0m         \"\"\"\n\u001b[1;32m-> 1214\u001b[1;33m         \u001b[1;32mif\u001b[0m \u001b[0mregex\u001b[0m \u001b[1;32mand\u001b[0m \u001b[0mre\u001b[0m\u001b[1;33m.\u001b[0m\u001b[0mcompile\u001b[0m\u001b[1;33m(\u001b[0m\u001b[0mpat\u001b[0m\u001b[1;33m)\u001b[0m\u001b[1;33m.\u001b[0m\u001b[0mgroups\u001b[0m\u001b[1;33m:\u001b[0m\u001b[1;33m\u001b[0m\u001b[1;33m\u001b[0m\u001b[0m\n\u001b[0m\u001b[0;32m   1215\u001b[0m             warnings.warn(\n\u001b[0;32m   1216\u001b[0m                 \u001b[1;34m\"This pattern is interpreted as a regular expression, and has \"\u001b[0m\u001b[1;33m\u001b[0m\u001b[1;33m\u001b[0m\u001b[0m\n",
      "\u001b[1;32mc:\\Users\\jones\\AppData\\Local\\Programs\\Python\\Python39\\lib\\re.py\u001b[0m in \u001b[0;36mcompile\u001b[1;34m(pattern, flags)\u001b[0m\n\u001b[0;32m    250\u001b[0m \u001b[1;32mdef\u001b[0m \u001b[0mcompile\u001b[0m\u001b[1;33m(\u001b[0m\u001b[0mpattern\u001b[0m\u001b[1;33m,\u001b[0m \u001b[0mflags\u001b[0m\u001b[1;33m=\u001b[0m\u001b[1;36m0\u001b[0m\u001b[1;33m)\u001b[0m\u001b[1;33m:\u001b[0m\u001b[1;33m\u001b[0m\u001b[1;33m\u001b[0m\u001b[0m\n\u001b[0;32m    251\u001b[0m     \u001b[1;34m\"Compile a regular expression pattern, returning a Pattern object.\"\u001b[0m\u001b[1;33m\u001b[0m\u001b[1;33m\u001b[0m\u001b[0m\n\u001b[1;32m--> 252\u001b[1;33m     \u001b[1;32mreturn\u001b[0m \u001b[0m_compile\u001b[0m\u001b[1;33m(\u001b[0m\u001b[0mpattern\u001b[0m\u001b[1;33m,\u001b[0m \u001b[0mflags\u001b[0m\u001b[1;33m)\u001b[0m\u001b[1;33m\u001b[0m\u001b[1;33m\u001b[0m\u001b[0m\n\u001b[0m\u001b[0;32m    253\u001b[0m \u001b[1;33m\u001b[0m\u001b[0m\n\u001b[0;32m    254\u001b[0m \u001b[1;32mdef\u001b[0m \u001b[0mpurge\u001b[0m\u001b[1;33m(\u001b[0m\u001b[1;33m)\u001b[0m\u001b[1;33m:\u001b[0m\u001b[1;33m\u001b[0m\u001b[1;33m\u001b[0m\u001b[0m\n",
      "\u001b[1;32mc:\\Users\\jones\\AppData\\Local\\Programs\\Python\\Python39\\lib\\re.py\u001b[0m in \u001b[0;36m_compile\u001b[1;34m(pattern, flags)\u001b[0m\n\u001b[0;32m    302\u001b[0m     \u001b[1;32mif\u001b[0m \u001b[1;32mnot\u001b[0m \u001b[0msre_compile\u001b[0m\u001b[1;33m.\u001b[0m\u001b[0misstring\u001b[0m\u001b[1;33m(\u001b[0m\u001b[0mpattern\u001b[0m\u001b[1;33m)\u001b[0m\u001b[1;33m:\u001b[0m\u001b[1;33m\u001b[0m\u001b[1;33m\u001b[0m\u001b[0m\n\u001b[0;32m    303\u001b[0m         \u001b[1;32mraise\u001b[0m \u001b[0mTypeError\u001b[0m\u001b[1;33m(\u001b[0m\u001b[1;34m\"first argument must be string or compiled pattern\"\u001b[0m\u001b[1;33m)\u001b[0m\u001b[1;33m\u001b[0m\u001b[1;33m\u001b[0m\u001b[0m\n\u001b[1;32m--> 304\u001b[1;33m     \u001b[0mp\u001b[0m \u001b[1;33m=\u001b[0m \u001b[0msre_compile\u001b[0m\u001b[1;33m.\u001b[0m\u001b[0mcompile\u001b[0m\u001b[1;33m(\u001b[0m\u001b[0mpattern\u001b[0m\u001b[1;33m,\u001b[0m \u001b[0mflags\u001b[0m\u001b[1;33m)\u001b[0m\u001b[1;33m\u001b[0m\u001b[1;33m\u001b[0m\u001b[0m\n\u001b[0m\u001b[0;32m    305\u001b[0m     \u001b[1;32mif\u001b[0m \u001b[1;32mnot\u001b[0m \u001b[1;33m(\u001b[0m\u001b[0mflags\u001b[0m \u001b[1;33m&\u001b[0m \u001b[0mDEBUG\u001b[0m\u001b[1;33m)\u001b[0m\u001b[1;33m:\u001b[0m\u001b[1;33m\u001b[0m\u001b[1;33m\u001b[0m\u001b[0m\n\u001b[0;32m    306\u001b[0m         \u001b[1;32mif\u001b[0m \u001b[0mlen\u001b[0m\u001b[1;33m(\u001b[0m\u001b[0m_cache\u001b[0m\u001b[1;33m)\u001b[0m \u001b[1;33m>=\u001b[0m \u001b[0m_MAXCACHE\u001b[0m\u001b[1;33m:\u001b[0m\u001b[1;33m\u001b[0m\u001b[1;33m\u001b[0m\u001b[0m\n",
      "\u001b[1;32mc:\\Users\\jones\\AppData\\Local\\Programs\\Python\\Python39\\lib\\sre_compile.py\u001b[0m in \u001b[0;36mcompile\u001b[1;34m(p, flags)\u001b[0m\n\u001b[0;32m    762\u001b[0m     \u001b[1;32mif\u001b[0m \u001b[0misstring\u001b[0m\u001b[1;33m(\u001b[0m\u001b[0mp\u001b[0m\u001b[1;33m)\u001b[0m\u001b[1;33m:\u001b[0m\u001b[1;33m\u001b[0m\u001b[1;33m\u001b[0m\u001b[0m\n\u001b[0;32m    763\u001b[0m         \u001b[0mpattern\u001b[0m \u001b[1;33m=\u001b[0m \u001b[0mp\u001b[0m\u001b[1;33m\u001b[0m\u001b[1;33m\u001b[0m\u001b[0m\n\u001b[1;32m--> 764\u001b[1;33m         \u001b[0mp\u001b[0m \u001b[1;33m=\u001b[0m \u001b[0msre_parse\u001b[0m\u001b[1;33m.\u001b[0m\u001b[0mparse\u001b[0m\u001b[1;33m(\u001b[0m\u001b[0mp\u001b[0m\u001b[1;33m,\u001b[0m \u001b[0mflags\u001b[0m\u001b[1;33m)\u001b[0m\u001b[1;33m\u001b[0m\u001b[1;33m\u001b[0m\u001b[0m\n\u001b[0m\u001b[0;32m    765\u001b[0m     \u001b[1;32melse\u001b[0m\u001b[1;33m:\u001b[0m\u001b[1;33m\u001b[0m\u001b[1;33m\u001b[0m\u001b[0m\n\u001b[0;32m    766\u001b[0m         \u001b[0mpattern\u001b[0m \u001b[1;33m=\u001b[0m \u001b[1;32mNone\u001b[0m\u001b[1;33m\u001b[0m\u001b[1;33m\u001b[0m\u001b[0m\n",
      "\u001b[1;32mc:\\Users\\jones\\AppData\\Local\\Programs\\Python\\Python39\\lib\\sre_parse.py\u001b[0m in \u001b[0;36mparse\u001b[1;34m(str, flags, state)\u001b[0m\n\u001b[0;32m    946\u001b[0m \u001b[1;33m\u001b[0m\u001b[0m\n\u001b[0;32m    947\u001b[0m     \u001b[1;32mtry\u001b[0m\u001b[1;33m:\u001b[0m\u001b[1;33m\u001b[0m\u001b[1;33m\u001b[0m\u001b[0m\n\u001b[1;32m--> 948\u001b[1;33m         \u001b[0mp\u001b[0m \u001b[1;33m=\u001b[0m \u001b[0m_parse_sub\u001b[0m\u001b[1;33m(\u001b[0m\u001b[0msource\u001b[0m\u001b[1;33m,\u001b[0m \u001b[0mstate\u001b[0m\u001b[1;33m,\u001b[0m \u001b[0mflags\u001b[0m \u001b[1;33m&\u001b[0m \u001b[0mSRE_FLAG_VERBOSE\u001b[0m\u001b[1;33m,\u001b[0m \u001b[1;36m0\u001b[0m\u001b[1;33m)\u001b[0m\u001b[1;33m\u001b[0m\u001b[1;33m\u001b[0m\u001b[0m\n\u001b[0m\u001b[0;32m    949\u001b[0m     \u001b[1;32mexcept\u001b[0m \u001b[0mVerbose\u001b[0m\u001b[1;33m:\u001b[0m\u001b[1;33m\u001b[0m\u001b[1;33m\u001b[0m\u001b[0m\n\u001b[0;32m    950\u001b[0m         \u001b[1;31m# the VERBOSE flag was switched on inside the pattern.  to be\u001b[0m\u001b[1;33m\u001b[0m\u001b[1;33m\u001b[0m\u001b[1;33m\u001b[0m\u001b[0m\n",
      "\u001b[1;32mc:\\Users\\jones\\AppData\\Local\\Programs\\Python\\Python39\\lib\\sre_parse.py\u001b[0m in \u001b[0;36m_parse_sub\u001b[1;34m(source, state, verbose, nested)\u001b[0m\n\u001b[0;32m    441\u001b[0m     \u001b[0mstart\u001b[0m \u001b[1;33m=\u001b[0m \u001b[0msource\u001b[0m\u001b[1;33m.\u001b[0m\u001b[0mtell\u001b[0m\u001b[1;33m(\u001b[0m\u001b[1;33m)\u001b[0m\u001b[1;33m\u001b[0m\u001b[1;33m\u001b[0m\u001b[0m\n\u001b[0;32m    442\u001b[0m     \u001b[1;32mwhile\u001b[0m \u001b[1;32mTrue\u001b[0m\u001b[1;33m:\u001b[0m\u001b[1;33m\u001b[0m\u001b[1;33m\u001b[0m\u001b[0m\n\u001b[1;32m--> 443\u001b[1;33m         itemsappend(_parse(source, state, verbose, nested + 1,\n\u001b[0m\u001b[0;32m    444\u001b[0m                            not nested and not items))\n\u001b[0;32m    445\u001b[0m         \u001b[1;32mif\u001b[0m \u001b[1;32mnot\u001b[0m \u001b[0msourcematch\u001b[0m\u001b[1;33m(\u001b[0m\u001b[1;34m\"|\"\u001b[0m\u001b[1;33m)\u001b[0m\u001b[1;33m:\u001b[0m\u001b[1;33m\u001b[0m\u001b[1;33m\u001b[0m\u001b[0m\n",
      "\u001b[1;32mc:\\Users\\jones\\AppData\\Local\\Programs\\Python\\Python39\\lib\\sre_parse.py\u001b[0m in \u001b[0;36m_parse\u001b[1;34m(source, state, verbose, nested, first)\u001b[0m\n\u001b[0;32m    666\u001b[0m                 \u001b[0mitem\u001b[0m \u001b[1;33m=\u001b[0m \u001b[1;32mNone\u001b[0m\u001b[1;33m\u001b[0m\u001b[1;33m\u001b[0m\u001b[0m\n\u001b[0;32m    667\u001b[0m             \u001b[1;32mif\u001b[0m \u001b[1;32mnot\u001b[0m \u001b[0mitem\u001b[0m \u001b[1;32mor\u001b[0m \u001b[0mitem\u001b[0m\u001b[1;33m[\u001b[0m\u001b[1;36m0\u001b[0m\u001b[1;33m]\u001b[0m\u001b[1;33m[\u001b[0m\u001b[1;36m0\u001b[0m\u001b[1;33m]\u001b[0m \u001b[1;32mis\u001b[0m \u001b[0mAT\u001b[0m\u001b[1;33m:\u001b[0m\u001b[1;33m\u001b[0m\u001b[1;33m\u001b[0m\u001b[0m\n\u001b[1;32m--> 668\u001b[1;33m                 raise source.error(\"nothing to repeat\",\n\u001b[0m\u001b[0;32m    669\u001b[0m                                    source.tell() - here + len(this))\n\u001b[0;32m    670\u001b[0m             \u001b[1;32mif\u001b[0m \u001b[0mitem\u001b[0m\u001b[1;33m[\u001b[0m\u001b[1;36m0\u001b[0m\u001b[1;33m]\u001b[0m\u001b[1;33m[\u001b[0m\u001b[1;36m0\u001b[0m\u001b[1;33m]\u001b[0m \u001b[1;32min\u001b[0m \u001b[0m_REPEATCODES\u001b[0m\u001b[1;33m:\u001b[0m\u001b[1;33m\u001b[0m\u001b[1;33m\u001b[0m\u001b[0m\n",
      "\u001b[1;31merror\u001b[0m: nothing to repeat at position 0"
     ]
    }
   ],
   "source": [
    "outliers = pd.DataFrame(columns=list(ccrr.columns))\n",
    "for index, row in ccrr.drop_duplicates(['AddressLine1','UnitNumb'])[['AddressLine1','UnitNumb']].iterrows():\n",
    "    address = row['AddressLine1']\n",
    "    unit_number = row['UnitNumb']\n",
    "    # todo: print address and unit_number, wait 15minutes and see what's crashing this next line\n",
    "    subset = ccrr[(ccrr['AddressLine1'].str.contains(address)) & ((ccrr['UnitNumb']==unit_number)|(ccrr['UnitNumb'].str.contains(str(unit_number)))) & (ccrr['PastRentReportDate'].notna())]\n",
    "    subset = subset.sort_values(by='PastRentReportDate',ascending=False).reset_index()\n",
    "    a = subset\n",
    "    if subset.empty:\n",
    "        continue\n",
    "    if (subset['PastAmount'].iloc[0] != subset['RentAmount'].iloc[0]):\n",
    "        outliers = pd.concat([outliers,subset.loc[[0]]])\n",
    "print(outliers)"
   ]
  },
  {
   "cell_type": "code",
   "execution_count": 95,
   "metadata": {},
   "outputs": [
    {
     "data": {
      "text/html": [
       "<div>\n",
       "<style scoped>\n",
       "    .dataframe tbody tr th:only-of-type {\n",
       "        vertical-align: middle;\n",
       "    }\n",
       "\n",
       "    .dataframe tbody tr th {\n",
       "        vertical-align: top;\n",
       "    }\n",
       "\n",
       "    .dataframe thead th {\n",
       "        text-align: right;\n",
       "    }\n",
       "</style>\n",
       "<table border=\"1\" class=\"dataframe\">\n",
       "  <thead>\n",
       "    <tr style=\"text-align: right;\">\n",
       "      <th></th>\n",
       "      <th>AddressLine1</th>\n",
       "      <th>AddressLine2</th>\n",
       "      <th>UnitNumb</th>\n",
       "      <th>NumofBeds</th>\n",
       "      <th>NumOfBaths</th>\n",
       "      <th>YearBuilt</th>\n",
       "      <th>RentAmount</th>\n",
       "      <th>PastRentReportDate</th>\n",
       "      <th>PastAmount</th>\n",
       "      <th>EmcumberedUnit</th>\n",
       "      <th>Unit Status</th>\n",
       "    </tr>\n",
       "  </thead>\n",
       "  <tbody>\n",
       "  </tbody>\n",
       "</table>\n",
       "</div>"
      ],
      "text/plain": [
       "Empty DataFrame\n",
       "Columns: [AddressLine1, AddressLine2, UnitNumb, NumofBeds, NumOfBaths, YearBuilt, RentAmount, PastRentReportDate, PastAmount, EmcumberedUnit, Unit Status]\n",
       "Index: []"
      ]
     },
     "execution_count": 95,
     "metadata": {},
     "output_type": "execute_result"
    }
   ],
   "source": [
    "outliers"
   ]
  },
  {
   "cell_type": "code",
   "execution_count": 2,
   "metadata": {},
   "outputs": [
    {
     "name": "stdout",
     "output_type": "stream",
     "text": [
      "<Response [200]>\n"
     ]
    }
   ],
   "source": [
    "from mapbox import Geocoder\n",
    "\n",
    "geocoder = Geocoder(access_token='pk.eyJ1IjoiaHVnaGZpdHpnZXJhbGQiLCJhIjoiY2xkZGhjaG9wMDNqdTNvdDZ5bG80OXZ3YSJ9.6njmVnJyl0zAtMnM9d8duQ')\n",
    "response = geocoder.forward('4252 Coolidge Ave, Los Angeles, CA 90066')"
   ]
  },
  {
   "cell_type": "code",
   "execution_count": 6,
   "metadata": {},
   "outputs": [
    {
     "data": {
      "text/plain": [
       "{'id': 'address.7082831410212634',\n",
       " 'type': 'Feature',\n",
       " 'place_type': ['address'],\n",
       " 'relevance': 1,\n",
       " 'properties': {'accuracy': 'rooftop'},\n",
       " 'text': 'Coolidge Avenue',\n",
       " 'place_name': '4252 Coolidge Avenue, Los Angeles, California 90066, United States',\n",
       " 'center': [-118.4171, 34.00101],\n",
       " 'geometry': {'type': 'Point', 'coordinates': [-118.4171, 34.00101]},\n",
       " 'address': '4252',\n",
       " 'context': [{'id': 'neighborhood.394022124', 'text': 'McLaughlin'},\n",
       "  {'id': 'postcode.300560108', 'text': '90066'},\n",
       "  {'id': 'place.192407788', 'wikidata': 'Q65', 'text': 'Los Angeles'},\n",
       "  {'id': 'district.14051052',\n",
       "   'wikidata': 'Q104994',\n",
       "   'text': 'Los Angeles County'},\n",
       "  {'id': 'region.419052',\n",
       "   'short_code': 'US-CA',\n",
       "   'wikidata': 'Q99',\n",
       "   'text': 'California'},\n",
       "  {'id': 'country.8940',\n",
       "   'short_code': 'us',\n",
       "   'wikidata': 'Q30',\n",
       "   'text': 'United States'}]}"
      ]
     },
     "execution_count": 6,
     "metadata": {},
     "output_type": "execute_result"
    }
   ],
   "source": [
    "response.json()['features'][0]"
   ]
  },
  {
   "cell_type": "code",
   "execution_count": 7,
   "metadata": {},
   "outputs": [
    {
     "data": {
      "text/plain": [
       "{'id': 'address.5063949685794286',\n",
       " 'type': 'Feature',\n",
       " 'place_type': ['address'],\n",
       " 'relevance': 1,\n",
       " 'properties': {'accuracy': 'rooftop'},\n",
       " 'text': 'Green Valley Circle',\n",
       " 'place_name': '6605 Green Valley Circle, Culver City, California 90230, United States',\n",
       " 'center': [-118.385796, 33.97883],\n",
       " 'geometry': {'type': 'Point', 'coordinates': [-118.385796, 33.97883]},\n",
       " 'address': '6605',\n",
       " 'context': [{'id': 'neighborhood.229092588', 'text': 'Fox Hills'},\n",
       "  {'id': 'postcode.300904172', 'text': '90230'},\n",
       "  {'id': 'place.77531372', 'wikidata': 'Q493378', 'text': 'Culver City'},\n",
       "  {'id': 'district.14051052',\n",
       "   'wikidata': 'Q104994',\n",
       "   'text': 'Los Angeles County'},\n",
       "  {'id': 'region.419052',\n",
       "   'short_code': 'US-CA',\n",
       "   'wikidata': 'Q99',\n",
       "   'text': 'California'},\n",
       "  {'id': 'country.8940',\n",
       "   'short_code': 'us',\n",
       "   'wikidata': 'Q30',\n",
       "   'text': 'United States'}]}"
      ]
     },
     "execution_count": 7,
     "metadata": {},
     "output_type": "execute_result"
    }
   ],
   "source": [
    "address = '6605  GREEN VALLEY CIR  UNIT 113\tCULVER CITY, CA 90230-8083'\n",
    "response = geocoder.forward(address)\n",
    "response.json()['features'][0]"
   ]
  },
  {
   "cell_type": "code",
   "execution_count": 9,
   "metadata": {},
   "outputs": [
    {
     "data": {
      "text/plain": [
       "[('6605', 'AddressNumber'),\n",
       " ('GREEN', 'StreetName'),\n",
       " ('VALLEY', 'StreetName'),\n",
       " ('CIR', 'StreetNamePostType'),\n",
       " ('UNIT', 'OccupancyType'),\n",
       " ('113', 'OccupancyIdentifier'),\n",
       " ('CULVER', 'PlaceName'),\n",
       " ('CITY,', 'PlaceName'),\n",
       " ('CA', 'StateName'),\n",
       " ('90230-8083', 'ZipCode')]"
      ]
     },
     "execution_count": 9,
     "metadata": {},
     "output_type": "execute_result"
    }
   ],
   "source": [
    "import usaddress\n",
    "usaddress.parse(address)"
   ]
  },
  {
   "cell_type": "code",
   "execution_count": 10,
   "metadata": {},
   "outputs": [
    {
     "data": {
      "text/plain": [
       "{'id': 'address.766468067844202',\n",
       " 'type': 'Feature',\n",
       " 'place_type': ['address'],\n",
       " 'relevance': 1,\n",
       " 'properties': {'accuracy': 'rooftop'},\n",
       " 'text': 'Culver Boulevard',\n",
       " 'place_name': '9770 Culver Boulevard, Culver City, California 90232, United States',\n",
       " 'center': [-118.39559, 34.02163],\n",
       " 'geometry': {'type': 'Point', 'coordinates': [-118.39559, 34.02163]},\n",
       " 'address': '9770',\n",
       " 'context': [{'id': 'neighborhood.375500012', 'text': 'Lucerne'},\n",
       "  {'id': 'postcode.300920556', 'text': '90232'},\n",
       "  {'id': 'place.77531372', 'wikidata': 'Q493378', 'text': 'Culver City'},\n",
       "  {'id': 'district.14051052',\n",
       "   'wikidata': 'Q104994',\n",
       "   'text': 'Los Angeles County'},\n",
       "  {'id': 'region.419052',\n",
       "   'short_code': 'US-CA',\n",
       "   'wikidata': 'Q99',\n",
       "   'text': 'California'},\n",
       "  {'id': 'country.8940',\n",
       "   'short_code': 'us',\n",
       "   'wikidata': 'Q30',\n",
       "   'text': 'United States'}]}"
      ]
     },
     "execution_count": 10,
     "metadata": {},
     "output_type": "execute_result"
    }
   ],
   "source": [
    "address = '9770 CULVER BLVD\tCULVER CITY, CA 90232-2703'\n",
    "response = geocoder.forward(address)\n",
    "response.json()['features'][0]"
   ]
  },
  {
   "cell_type": "code",
   "execution_count": 11,
   "metadata": {},
   "outputs": [
    {
     "data": {
      "text/plain": [
       "{'id': 'address.1144368606704674',\n",
       " 'type': 'Feature',\n",
       " 'place_type': ['address'],\n",
       " 'relevance': 1,\n",
       " 'properties': {'accuracy': 'rooftop'},\n",
       " 'text': 'Keystone Avenue',\n",
       " 'place_name': '4396 Keystone Avenue, Culver City, California 90232, United States',\n",
       " 'center': [-118.39549, 34.009255],\n",
       " 'geometry': {'type': 'Point', 'coordinates': [-118.39549, 34.009255]},\n",
       " 'address': '4396',\n",
       " 'context': [{'id': 'neighborhood.91180268', 'text': 'Carlson'},\n",
       "  {'id': 'postcode.300920556', 'text': '90232'},\n",
       "  {'id': 'place.77531372', 'wikidata': 'Q493378', 'text': 'Culver City'},\n",
       "  {'id': 'district.14051052',\n",
       "   'wikidata': 'Q104994',\n",
       "   'text': 'Los Angeles County'},\n",
       "  {'id': 'region.419052',\n",
       "   'short_code': 'US-CA',\n",
       "   'wikidata': 'Q99',\n",
       "   'text': 'California'},\n",
       "  {'id': 'country.8940',\n",
       "   'short_code': 'us',\n",
       "   'wikidata': 'Q30',\n",
       "   'text': 'United States'}]}"
      ]
     },
     "execution_count": 11,
     "metadata": {},
     "output_type": "execute_result"
    }
   ],
   "source": [
    "address = '4396 KEYSTONE AVE\tCULVER CITY, CA 90232-3437'\n",
    "response = geocoder.forward(address)\n",
    "response.json()['features'][0]"
   ]
  }
 ],
 "metadata": {
  "kernelspec": {
   "display_name": "Python 3.9.4 64-bit",
   "language": "python",
   "name": "python3"
  },
  "language_info": {
   "codemirror_mode": {
    "name": "ipython",
    "version": 3
   },
   "file_extension": ".py",
   "mimetype": "text/x-python",
   "name": "python",
   "nbconvert_exporter": "python",
   "pygments_lexer": "ipython3",
   "version": "3.9.4 (tags/v3.9.4:1f2e308, Apr  6 2021, 13:40:21) [MSC v.1928 64 bit (AMD64)]"
  },
  "orig_nbformat": 4,
  "vscode": {
   "interpreter": {
    "hash": "a8a7bd8979a4457ff10482144eb93e8faf46b7074b382aab52ae0a11e763accd"
   }
  }
 },
 "nbformat": 4,
 "nbformat_minor": 2
}
