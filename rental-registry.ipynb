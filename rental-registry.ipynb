{
 "cells": [
  {
   "cell_type": "code",
   "execution_count": 159,
   "metadata": {},
   "outputs": [],
   "source": [
    "# run this to read in the rent registry\n",
    "\n",
    "import pandas as pd\n",
    "import numpy as np\n",
    "\n",
    "fn = 'Rent Registry_PRA 22-496.xlsx'\n",
    "#fn = 'test.xlsx'\n",
    "ccrr = pd.read_excel(fn)\n",
    "ccrr['AddressLine1'] = ccrr['AddressLine1'].str.replace('10144 CULVER CITY','10144 CULVER BLVD')\n",
    "ccrr = ccrr.sort_values(by='PastRentReportDate',ascending=False).reset_index()"
   ]
  },
  {
   "cell_type": "code",
   "execution_count": 76,
   "metadata": {},
   "outputs": [
    {
     "data": {
      "text/html": [
       "<div>\n",
       "<style scoped>\n",
       "    .dataframe tbody tr th:only-of-type {\n",
       "        vertical-align: middle;\n",
       "    }\n",
       "\n",
       "    .dataframe tbody tr th {\n",
       "        vertical-align: top;\n",
       "    }\n",
       "\n",
       "    .dataframe thead th {\n",
       "        text-align: right;\n",
       "    }\n",
       "</style>\n",
       "<table border=\"1\" class=\"dataframe\">\n",
       "  <thead>\n",
       "    <tr style=\"text-align: right;\">\n",
       "      <th></th>\n",
       "      <th>AddressLine1</th>\n",
       "      <th>UnitNumb</th>\n",
       "    </tr>\n",
       "  </thead>\n",
       "  <tbody>\n",
       "    <tr>\n",
       "      <th>0</th>\n",
       "      <td>9770 CULVER BLVD</td>\n",
       "      <td>111</td>\n",
       "    </tr>\n",
       "    <tr>\n",
       "      <th>2</th>\n",
       "      <td>5127  FAIRBANKS WAY</td>\n",
       "      <td>1</td>\n",
       "    </tr>\n",
       "    <tr>\n",
       "      <th>6</th>\n",
       "      <td>3573 HELMS AVE</td>\n",
       "      <td>3573</td>\n",
       "    </tr>\n",
       "    <tr>\n",
       "      <th>10</th>\n",
       "      <td>5830  GREEN VALLEY CIR</td>\n",
       "      <td>101</td>\n",
       "    </tr>\n",
       "    <tr>\n",
       "      <th>13</th>\n",
       "      <td>5830  GREEN VALLEY CIR</td>\n",
       "      <td>102</td>\n",
       "    </tr>\n",
       "    <tr>\n",
       "      <th>...</th>\n",
       "      <td>...</td>\n",
       "      <td>...</td>\n",
       "    </tr>\n",
       "    <tr>\n",
       "      <th>22299</th>\n",
       "      <td>5900  CANTERBURY DR  UNIT A-210</td>\n",
       "      <td>NaN</td>\n",
       "    </tr>\n",
       "    <tr>\n",
       "      <th>22300</th>\n",
       "      <td>11225  MCDONALD ST</td>\n",
       "      <td>NaN</td>\n",
       "    </tr>\n",
       "    <tr>\n",
       "      <th>22301</th>\n",
       "      <td>14303  SUMMERTIME LN</td>\n",
       "      <td>NaN</td>\n",
       "    </tr>\n",
       "    <tr>\n",
       "      <th>22302</th>\n",
       "      <td>11036  CULVER BLVD</td>\n",
       "      <td>NaN</td>\n",
       "    </tr>\n",
       "    <tr>\n",
       "      <th>22303</th>\n",
       "      <td>5213  AGUSTIN LN</td>\n",
       "      <td>NaN</td>\n",
       "    </tr>\n",
       "  </tbody>\n",
       "</table>\n",
       "<p>8042 rows × 2 columns</p>\n",
       "</div>"
      ],
      "text/plain": [
       "                          AddressLine1 UnitNumb\n",
       "0                     9770 CULVER BLVD      111\n",
       "2                5127  FAIRBANKS WAY          1\n",
       "6                       3573 HELMS AVE     3573\n",
       "10            5830  GREEN VALLEY CIR        101\n",
       "13            5830  GREEN VALLEY CIR        102\n",
       "...                                ...      ...\n",
       "22299  5900  CANTERBURY DR  UNIT A-210      NaN\n",
       "22300             11225  MCDONALD ST        NaN\n",
       "22301           14303  SUMMERTIME LN        NaN\n",
       "22302             11036  CULVER BLVD        NaN\n",
       "22303               5213  AGUSTIN LN        NaN\n",
       "\n",
       "[8042 rows x 2 columns]"
      ]
     },
     "execution_count": 76,
     "metadata": {},
     "output_type": "execute_result"
    }
   ],
   "source": [
    "ccrr.drop_duplicates(['AddressLine1','UnitNumb'])[['AddressLine1','UnitNumb']]"
   ]
  },
  {
   "cell_type": "code",
   "execution_count": null,
   "metadata": {},
   "outputs": [],
   "source": [
    "# run this to geocode all the addresses in the rent registry"
   ]
  },
  {
   "cell_type": "code",
   "execution_count": 158,
   "metadata": {},
   "outputs": [
    {
     "name": "stdout",
     "output_type": "stream",
     "text": [
      "OrderedDict([('AddressNumber', '6124'), ('StreetName', 'BUCKINGHAM PKWY 19'), ('PlaceName', 'CULVER CITY'), ('StateName', 'CA'), ('ZipCode', '90230-7222')])\n",
      "OrderedDict([('AddressNumber', '5014'), ('StreetName', 'RAINBOWS END'), ('PlaceName', 'CULVER CITY'), ('StateName', 'CA'), ('ZipCode', '90230-4471')])\n",
      "OrderedDict([('AddressNumber', '5010'), ('StreetName', 'RAINBOWS END'), ('PlaceName', 'CULVER CITY'), ('StateName', 'CA'), ('ZipCode', '90230-4471')])\n",
      "OrderedDict([('AddressNumber', '5003'), ('StreetName', 'RAINBOWS END'), ('PlaceName', 'CULVER CITY'), ('StateName', 'CA'), ('ZipCode', '90230-4472')])\n"
     ]
    }
   ],
   "source": [
    "# run this to create the json that contains the data to be displayed\n",
    "\n",
    "import usaddress\n",
    "import datetime\n",
    "import time\n",
    "import orjson\n",
    "\n",
    "export_json = dict()\n",
    "\n",
    "for index, row in ccrr.drop_duplicates(['AddressLine1','UnitNumb']).iterrows():\n",
    "    #TODO: figure out the structure of your JSON\n",
    "    # I think we want it to be a dictionary of AddressLine1's (and separately we've got a csv that has three columns: addressline1, long, lat)\n",
    "    # then within that there's a dictionary of features... one of them is a list of units\n",
    "    # each unit is a dictionary that stores info on a unit, rent history, current rent, beds/baths, etc.\n",
    "    # OR do we want it stuctured closer to how I want to display it?\n",
    "    # OR is it more flat so I can use database calls from the JavaScript itself? (i.e., select the 3 beds so we can group by beds when we display?)\n",
    "    # MAYBE this is creating a JSON that can be displayed on my map and separately I have function to revamp the data for analysis\n",
    "    # \n",
    "    if pd.isna(row['AddressLine1']):\n",
    "        continue\n",
    "    \n",
    "    line1 = row['AddressLine1']\n",
    "    line2 = row['AddressLine2']\n",
    "    unit = row['UnitNumb']\n",
    "    beds = row['NumofBeds']\n",
    "    baths = row['NumOfBaths']\n",
    "    built = row['YearBuilt']\n",
    "    rent = row['RentAmount']\n",
    "    if pd.isna(row['PastRentReportDate']):\n",
    "        rentdate = ''\n",
    "    else:\n",
    "        rentdate = row['PastRentReportDate'].strftime('%Y/%m/%d')\n",
    "    encumbered = row['EmcumberedUnit']\n",
    "    status = row['Unit Status']\n",
    "    \n",
    "    if isinstance(line1,str) and '3959 AND 3961 BENTLEY AVE' in line1:\n",
    "        line1 = '3959-3961 BENTLEY AVE'\n",
    "    elif isinstance(line1,str) and '4222 & 4224 JASMINE AVE' in line1:\n",
    "        line1 = '4222-4224 JASMINE AVE'\n",
    "    elif isinstance(line1,str) and '4070 LAFAYETTE PL # House B' in line1:\n",
    "        line1 = '4070 LAFAYETTE PL House B'\n",
    "    elif isinstance(line1,str) and 'Do not own a rental property in Culver City' in line1:\n",
    "        continue\n",
    "    if pd.isna(line2):\n",
    "        line2 = ''\n",
    "    tagged_address, address_type= usaddress.tag(str(line1)+', '+str(line2))\n",
    "\n",
    "    if ('StreetNamePostType' or 'StreetName' or 'AddressNumber') not in tagged_address.keys():\n",
    "        print(tagged_address)\n",
    "    if 'StreetNamePostType' not in tagged_address.keys():\n",
    "        address = ' '.join([tagged_address['AddressNumber'], tagged_address['StreetName']])\n",
    "    else:\n",
    "        address = ' '.join([tagged_address['AddressNumber'], tagged_address['StreetName'], tagged_address['StreetNamePostType']])\n",
    "    \n",
    "    if address not in export_json.keys():\n",
    "        export_json[address] = []\n",
    "    export_json[address].append([unit, beds, baths, built, rent, rentdate, encumbered, status])\n",
    "\n",
    "with open(\"ccrr-\" + time.strftime(\"%Y%m%d-%H%M%S\") + \".json\", \"wb\") as f:\n",
    "    f.write(orjson.dumps(export_json))"
   ]
  },
  {
   "cell_type": "code",
   "execution_count": 134,
   "metadata": {},
   "outputs": [
    {
     "data": {
      "text/plain": [
       "odict_keys(['AddressNumber', 'StreetName', 'StreetNamePostType', 'PlaceName', 'StateName', 'ZipCode'])"
      ]
     },
     "execution_count": 134,
     "metadata": {},
     "output_type": "execute_result"
    }
   ],
   "source": [
    "tagged_address.keys()"
   ]
  },
  {
   "cell_type": "code",
   "execution_count": 115,
   "metadata": {},
   "outputs": [],
   "source": [
    "import usaddress\n",
    "import time\n",
    "import datetime\n",
    "import orjson \n",
    "\n",
    "line1 = '4900  OVERLAND AVE  UNIT 396'\n",
    "line2 = 'CULVER CITY, CA 90230-4299'\n",
    "unit = 396\n",
    "beds = 2\n",
    "baths = 2\n",
    "built = 1973\n",
    "rent = 2725\n",
    "rentdate = datetime.datetime.strptime('06/18/2022','%m/%d/%Y').date()\n",
    "encumbered = \"No\"\n",
    "status = \"Rented\"\n",
    "export_json = dict()\n",
    "\n",
    "tagged_address, address_type= usaddress.tag(line1+', '+line2)\n",
    "\n",
    "address = ' '.join([tagged_address['AddressNumber'], tagged_address['StreetName'], tagged_address['StreetNamePostType']])\n",
    "export_json[address] = [unit, beds, baths, built, rent, rentdate, encumbered, status]\n",
    "\n",
    "with open(\"ccrr-\" + time.strftime(\"%Y%m%d-%H%M%S\") + \".json\", \"wb\") as f:\n",
    "    f.write(orjson.dumps(export_json))\n"
   ]
  },
  {
   "cell_type": "code",
   "execution_count": 114,
   "metadata": {},
   "outputs": [
    {
     "data": {
      "text/plain": [
       "'20230129-201338'"
      ]
     },
     "execution_count": 114,
     "metadata": {},
     "output_type": "execute_result"
    }
   ],
   "source": [
    "time.strftime(\"%Y%m%d-%H%M%S\")"
   ]
  },
  {
   "cell_type": "code",
   "execution_count": 94,
   "metadata": {},
   "outputs": [
    {
     "name": "stderr",
     "output_type": "stream",
     "text": [
      "<ipython-input-94-541f0dd35c04>:5: UserWarning: This pattern is interpreted as a regular expression, and has match groups. To actually get the groups, use str.extract.\n",
      "  subset = ccrr[(ccrr['AddressLine1'].str.contains(address)) & ((ccrr['UnitNumb']==unit_number)|(ccrr['UnitNumb'].str.contains(str(unit_number)))) & (ccrr['PastRentReportDate'].notna())]\n"
     ]
    },
    {
     "ename": "error",
     "evalue": "nothing to repeat at position 0",
     "output_type": "error",
     "traceback": [
      "\u001b[1;31m---------------------------------------------------------------------------\u001b[0m",
      "\u001b[1;31merror\u001b[0m                                     Traceback (most recent call last)",
      "\u001b[1;32m<ipython-input-94-541f0dd35c04>\u001b[0m in \u001b[0;36m<module>\u001b[1;34m\u001b[0m\n\u001b[0;32m      3\u001b[0m     \u001b[0maddress\u001b[0m \u001b[1;33m=\u001b[0m \u001b[0mrow\u001b[0m\u001b[1;33m[\u001b[0m\u001b[1;34m'AddressLine1'\u001b[0m\u001b[1;33m]\u001b[0m\u001b[1;33m\u001b[0m\u001b[1;33m\u001b[0m\u001b[0m\n\u001b[0;32m      4\u001b[0m     \u001b[0munit_number\u001b[0m \u001b[1;33m=\u001b[0m \u001b[0mrow\u001b[0m\u001b[1;33m[\u001b[0m\u001b[1;34m'UnitNumb'\u001b[0m\u001b[1;33m]\u001b[0m\u001b[1;33m\u001b[0m\u001b[1;33m\u001b[0m\u001b[0m\n\u001b[1;32m----> 5\u001b[1;33m     \u001b[0msubset\u001b[0m \u001b[1;33m=\u001b[0m \u001b[0mccrr\u001b[0m\u001b[1;33m[\u001b[0m\u001b[1;33m(\u001b[0m\u001b[0mccrr\u001b[0m\u001b[1;33m[\u001b[0m\u001b[1;34m'AddressLine1'\u001b[0m\u001b[1;33m]\u001b[0m\u001b[1;33m.\u001b[0m\u001b[0mstr\u001b[0m\u001b[1;33m.\u001b[0m\u001b[0mcontains\u001b[0m\u001b[1;33m(\u001b[0m\u001b[0maddress\u001b[0m\u001b[1;33m)\u001b[0m\u001b[1;33m)\u001b[0m \u001b[1;33m&\u001b[0m \u001b[1;33m(\u001b[0m\u001b[1;33m(\u001b[0m\u001b[0mccrr\u001b[0m\u001b[1;33m[\u001b[0m\u001b[1;34m'UnitNumb'\u001b[0m\u001b[1;33m]\u001b[0m\u001b[1;33m==\u001b[0m\u001b[0munit_number\u001b[0m\u001b[1;33m)\u001b[0m\u001b[1;33m|\u001b[0m\u001b[1;33m(\u001b[0m\u001b[0mccrr\u001b[0m\u001b[1;33m[\u001b[0m\u001b[1;34m'UnitNumb'\u001b[0m\u001b[1;33m]\u001b[0m\u001b[1;33m.\u001b[0m\u001b[0mstr\u001b[0m\u001b[1;33m.\u001b[0m\u001b[0mcontains\u001b[0m\u001b[1;33m(\u001b[0m\u001b[0mstr\u001b[0m\u001b[1;33m(\u001b[0m\u001b[0munit_number\u001b[0m\u001b[1;33m)\u001b[0m\u001b[1;33m)\u001b[0m\u001b[1;33m)\u001b[0m\u001b[1;33m)\u001b[0m \u001b[1;33m&\u001b[0m \u001b[1;33m(\u001b[0m\u001b[0mccrr\u001b[0m\u001b[1;33m[\u001b[0m\u001b[1;34m'PastRentReportDate'\u001b[0m\u001b[1;33m]\u001b[0m\u001b[1;33m.\u001b[0m\u001b[0mnotna\u001b[0m\u001b[1;33m(\u001b[0m\u001b[1;33m)\u001b[0m\u001b[1;33m)\u001b[0m\u001b[1;33m]\u001b[0m\u001b[1;33m\u001b[0m\u001b[1;33m\u001b[0m\u001b[0m\n\u001b[0m\u001b[0;32m      6\u001b[0m     \u001b[0msubset\u001b[0m \u001b[1;33m=\u001b[0m \u001b[0msubset\u001b[0m\u001b[1;33m.\u001b[0m\u001b[0msort_values\u001b[0m\u001b[1;33m(\u001b[0m\u001b[0mby\u001b[0m\u001b[1;33m=\u001b[0m\u001b[1;34m'PastRentReportDate'\u001b[0m\u001b[1;33m,\u001b[0m\u001b[0mascending\u001b[0m\u001b[1;33m=\u001b[0m\u001b[1;32mFalse\u001b[0m\u001b[1;33m)\u001b[0m\u001b[1;33m.\u001b[0m\u001b[0mreset_index\u001b[0m\u001b[1;33m(\u001b[0m\u001b[1;33m)\u001b[0m\u001b[1;33m\u001b[0m\u001b[1;33m\u001b[0m\u001b[0m\n\u001b[0;32m      7\u001b[0m     \u001b[0ma\u001b[0m \u001b[1;33m=\u001b[0m \u001b[0msubset\u001b[0m\u001b[1;33m\u001b[0m\u001b[1;33m\u001b[0m\u001b[0m\n",
      "\u001b[1;32mc:\\Users\\jones\\AppData\\Local\\Programs\\Python\\Python39\\lib\\site-packages\\pandas\\core\\strings\\accessor.py\u001b[0m in \u001b[0;36mwrapper\u001b[1;34m(self, *args, **kwargs)\u001b[0m\n\u001b[0;32m    123\u001b[0m                 )\n\u001b[0;32m    124\u001b[0m                 \u001b[1;32mraise\u001b[0m \u001b[0mTypeError\u001b[0m\u001b[1;33m(\u001b[0m\u001b[0mmsg\u001b[0m\u001b[1;33m)\u001b[0m\u001b[1;33m\u001b[0m\u001b[1;33m\u001b[0m\u001b[0m\n\u001b[1;32m--> 125\u001b[1;33m             \u001b[1;32mreturn\u001b[0m \u001b[0mfunc\u001b[0m\u001b[1;33m(\u001b[0m\u001b[0mself\u001b[0m\u001b[1;33m,\u001b[0m \u001b[1;33m*\u001b[0m\u001b[0margs\u001b[0m\u001b[1;33m,\u001b[0m \u001b[1;33m**\u001b[0m\u001b[0mkwargs\u001b[0m\u001b[1;33m)\u001b[0m\u001b[1;33m\u001b[0m\u001b[1;33m\u001b[0m\u001b[0m\n\u001b[0m\u001b[0;32m    126\u001b[0m \u001b[1;33m\u001b[0m\u001b[0m\n\u001b[0;32m    127\u001b[0m         \u001b[0mwrapper\u001b[0m\u001b[1;33m.\u001b[0m\u001b[0m__name__\u001b[0m \u001b[1;33m=\u001b[0m \u001b[0mfunc_name\u001b[0m\u001b[1;33m\u001b[0m\u001b[1;33m\u001b[0m\u001b[0m\n",
      "\u001b[1;32mc:\\Users\\jones\\AppData\\Local\\Programs\\Python\\Python39\\lib\\site-packages\\pandas\\core\\strings\\accessor.py\u001b[0m in \u001b[0;36mcontains\u001b[1;34m(self, pat, case, flags, na, regex)\u001b[0m\n\u001b[0;32m   1212\u001b[0m         \u001b[0mdtype\u001b[0m\u001b[1;33m:\u001b[0m \u001b[0mbool\u001b[0m\u001b[1;33m\u001b[0m\u001b[1;33m\u001b[0m\u001b[0m\n\u001b[0;32m   1213\u001b[0m         \"\"\"\n\u001b[1;32m-> 1214\u001b[1;33m         \u001b[1;32mif\u001b[0m \u001b[0mregex\u001b[0m \u001b[1;32mand\u001b[0m \u001b[0mre\u001b[0m\u001b[1;33m.\u001b[0m\u001b[0mcompile\u001b[0m\u001b[1;33m(\u001b[0m\u001b[0mpat\u001b[0m\u001b[1;33m)\u001b[0m\u001b[1;33m.\u001b[0m\u001b[0mgroups\u001b[0m\u001b[1;33m:\u001b[0m\u001b[1;33m\u001b[0m\u001b[1;33m\u001b[0m\u001b[0m\n\u001b[0m\u001b[0;32m   1215\u001b[0m             warnings.warn(\n\u001b[0;32m   1216\u001b[0m                 \u001b[1;34m\"This pattern is interpreted as a regular expression, and has \"\u001b[0m\u001b[1;33m\u001b[0m\u001b[1;33m\u001b[0m\u001b[0m\n",
      "\u001b[1;32mc:\\Users\\jones\\AppData\\Local\\Programs\\Python\\Python39\\lib\\re.py\u001b[0m in \u001b[0;36mcompile\u001b[1;34m(pattern, flags)\u001b[0m\n\u001b[0;32m    250\u001b[0m \u001b[1;32mdef\u001b[0m \u001b[0mcompile\u001b[0m\u001b[1;33m(\u001b[0m\u001b[0mpattern\u001b[0m\u001b[1;33m,\u001b[0m \u001b[0mflags\u001b[0m\u001b[1;33m=\u001b[0m\u001b[1;36m0\u001b[0m\u001b[1;33m)\u001b[0m\u001b[1;33m:\u001b[0m\u001b[1;33m\u001b[0m\u001b[1;33m\u001b[0m\u001b[0m\n\u001b[0;32m    251\u001b[0m     \u001b[1;34m\"Compile a regular expression pattern, returning a Pattern object.\"\u001b[0m\u001b[1;33m\u001b[0m\u001b[1;33m\u001b[0m\u001b[0m\n\u001b[1;32m--> 252\u001b[1;33m     \u001b[1;32mreturn\u001b[0m \u001b[0m_compile\u001b[0m\u001b[1;33m(\u001b[0m\u001b[0mpattern\u001b[0m\u001b[1;33m,\u001b[0m \u001b[0mflags\u001b[0m\u001b[1;33m)\u001b[0m\u001b[1;33m\u001b[0m\u001b[1;33m\u001b[0m\u001b[0m\n\u001b[0m\u001b[0;32m    253\u001b[0m \u001b[1;33m\u001b[0m\u001b[0m\n\u001b[0;32m    254\u001b[0m \u001b[1;32mdef\u001b[0m \u001b[0mpurge\u001b[0m\u001b[1;33m(\u001b[0m\u001b[1;33m)\u001b[0m\u001b[1;33m:\u001b[0m\u001b[1;33m\u001b[0m\u001b[1;33m\u001b[0m\u001b[0m\n",
      "\u001b[1;32mc:\\Users\\jones\\AppData\\Local\\Programs\\Python\\Python39\\lib\\re.py\u001b[0m in \u001b[0;36m_compile\u001b[1;34m(pattern, flags)\u001b[0m\n\u001b[0;32m    302\u001b[0m     \u001b[1;32mif\u001b[0m \u001b[1;32mnot\u001b[0m \u001b[0msre_compile\u001b[0m\u001b[1;33m.\u001b[0m\u001b[0misstring\u001b[0m\u001b[1;33m(\u001b[0m\u001b[0mpattern\u001b[0m\u001b[1;33m)\u001b[0m\u001b[1;33m:\u001b[0m\u001b[1;33m\u001b[0m\u001b[1;33m\u001b[0m\u001b[0m\n\u001b[0;32m    303\u001b[0m         \u001b[1;32mraise\u001b[0m \u001b[0mTypeError\u001b[0m\u001b[1;33m(\u001b[0m\u001b[1;34m\"first argument must be string or compiled pattern\"\u001b[0m\u001b[1;33m)\u001b[0m\u001b[1;33m\u001b[0m\u001b[1;33m\u001b[0m\u001b[0m\n\u001b[1;32m--> 304\u001b[1;33m     \u001b[0mp\u001b[0m \u001b[1;33m=\u001b[0m \u001b[0msre_compile\u001b[0m\u001b[1;33m.\u001b[0m\u001b[0mcompile\u001b[0m\u001b[1;33m(\u001b[0m\u001b[0mpattern\u001b[0m\u001b[1;33m,\u001b[0m \u001b[0mflags\u001b[0m\u001b[1;33m)\u001b[0m\u001b[1;33m\u001b[0m\u001b[1;33m\u001b[0m\u001b[0m\n\u001b[0m\u001b[0;32m    305\u001b[0m     \u001b[1;32mif\u001b[0m \u001b[1;32mnot\u001b[0m \u001b[1;33m(\u001b[0m\u001b[0mflags\u001b[0m \u001b[1;33m&\u001b[0m \u001b[0mDEBUG\u001b[0m\u001b[1;33m)\u001b[0m\u001b[1;33m:\u001b[0m\u001b[1;33m\u001b[0m\u001b[1;33m\u001b[0m\u001b[0m\n\u001b[0;32m    306\u001b[0m         \u001b[1;32mif\u001b[0m \u001b[0mlen\u001b[0m\u001b[1;33m(\u001b[0m\u001b[0m_cache\u001b[0m\u001b[1;33m)\u001b[0m \u001b[1;33m>=\u001b[0m \u001b[0m_MAXCACHE\u001b[0m\u001b[1;33m:\u001b[0m\u001b[1;33m\u001b[0m\u001b[1;33m\u001b[0m\u001b[0m\n",
      "\u001b[1;32mc:\\Users\\jones\\AppData\\Local\\Programs\\Python\\Python39\\lib\\sre_compile.py\u001b[0m in \u001b[0;36mcompile\u001b[1;34m(p, flags)\u001b[0m\n\u001b[0;32m    762\u001b[0m     \u001b[1;32mif\u001b[0m \u001b[0misstring\u001b[0m\u001b[1;33m(\u001b[0m\u001b[0mp\u001b[0m\u001b[1;33m)\u001b[0m\u001b[1;33m:\u001b[0m\u001b[1;33m\u001b[0m\u001b[1;33m\u001b[0m\u001b[0m\n\u001b[0;32m    763\u001b[0m         \u001b[0mpattern\u001b[0m \u001b[1;33m=\u001b[0m \u001b[0mp\u001b[0m\u001b[1;33m\u001b[0m\u001b[1;33m\u001b[0m\u001b[0m\n\u001b[1;32m--> 764\u001b[1;33m         \u001b[0mp\u001b[0m \u001b[1;33m=\u001b[0m \u001b[0msre_parse\u001b[0m\u001b[1;33m.\u001b[0m\u001b[0mparse\u001b[0m\u001b[1;33m(\u001b[0m\u001b[0mp\u001b[0m\u001b[1;33m,\u001b[0m \u001b[0mflags\u001b[0m\u001b[1;33m)\u001b[0m\u001b[1;33m\u001b[0m\u001b[1;33m\u001b[0m\u001b[0m\n\u001b[0m\u001b[0;32m    765\u001b[0m     \u001b[1;32melse\u001b[0m\u001b[1;33m:\u001b[0m\u001b[1;33m\u001b[0m\u001b[1;33m\u001b[0m\u001b[0m\n\u001b[0;32m    766\u001b[0m         \u001b[0mpattern\u001b[0m \u001b[1;33m=\u001b[0m \u001b[1;32mNone\u001b[0m\u001b[1;33m\u001b[0m\u001b[1;33m\u001b[0m\u001b[0m\n",
      "\u001b[1;32mc:\\Users\\jones\\AppData\\Local\\Programs\\Python\\Python39\\lib\\sre_parse.py\u001b[0m in \u001b[0;36mparse\u001b[1;34m(str, flags, state)\u001b[0m\n\u001b[0;32m    946\u001b[0m \u001b[1;33m\u001b[0m\u001b[0m\n\u001b[0;32m    947\u001b[0m     \u001b[1;32mtry\u001b[0m\u001b[1;33m:\u001b[0m\u001b[1;33m\u001b[0m\u001b[1;33m\u001b[0m\u001b[0m\n\u001b[1;32m--> 948\u001b[1;33m         \u001b[0mp\u001b[0m \u001b[1;33m=\u001b[0m \u001b[0m_parse_sub\u001b[0m\u001b[1;33m(\u001b[0m\u001b[0msource\u001b[0m\u001b[1;33m,\u001b[0m \u001b[0mstate\u001b[0m\u001b[1;33m,\u001b[0m \u001b[0mflags\u001b[0m \u001b[1;33m&\u001b[0m \u001b[0mSRE_FLAG_VERBOSE\u001b[0m\u001b[1;33m,\u001b[0m \u001b[1;36m0\u001b[0m\u001b[1;33m)\u001b[0m\u001b[1;33m\u001b[0m\u001b[1;33m\u001b[0m\u001b[0m\n\u001b[0m\u001b[0;32m    949\u001b[0m     \u001b[1;32mexcept\u001b[0m \u001b[0mVerbose\u001b[0m\u001b[1;33m:\u001b[0m\u001b[1;33m\u001b[0m\u001b[1;33m\u001b[0m\u001b[0m\n\u001b[0;32m    950\u001b[0m         \u001b[1;31m# the VERBOSE flag was switched on inside the pattern.  to be\u001b[0m\u001b[1;33m\u001b[0m\u001b[1;33m\u001b[0m\u001b[1;33m\u001b[0m\u001b[0m\n",
      "\u001b[1;32mc:\\Users\\jones\\AppData\\Local\\Programs\\Python\\Python39\\lib\\sre_parse.py\u001b[0m in \u001b[0;36m_parse_sub\u001b[1;34m(source, state, verbose, nested)\u001b[0m\n\u001b[0;32m    441\u001b[0m     \u001b[0mstart\u001b[0m \u001b[1;33m=\u001b[0m \u001b[0msource\u001b[0m\u001b[1;33m.\u001b[0m\u001b[0mtell\u001b[0m\u001b[1;33m(\u001b[0m\u001b[1;33m)\u001b[0m\u001b[1;33m\u001b[0m\u001b[1;33m\u001b[0m\u001b[0m\n\u001b[0;32m    442\u001b[0m     \u001b[1;32mwhile\u001b[0m \u001b[1;32mTrue\u001b[0m\u001b[1;33m:\u001b[0m\u001b[1;33m\u001b[0m\u001b[1;33m\u001b[0m\u001b[0m\n\u001b[1;32m--> 443\u001b[1;33m         itemsappend(_parse(source, state, verbose, nested + 1,\n\u001b[0m\u001b[0;32m    444\u001b[0m                            not nested and not items))\n\u001b[0;32m    445\u001b[0m         \u001b[1;32mif\u001b[0m \u001b[1;32mnot\u001b[0m \u001b[0msourcematch\u001b[0m\u001b[1;33m(\u001b[0m\u001b[1;34m\"|\"\u001b[0m\u001b[1;33m)\u001b[0m\u001b[1;33m:\u001b[0m\u001b[1;33m\u001b[0m\u001b[1;33m\u001b[0m\u001b[0m\n",
      "\u001b[1;32mc:\\Users\\jones\\AppData\\Local\\Programs\\Python\\Python39\\lib\\sre_parse.py\u001b[0m in \u001b[0;36m_parse\u001b[1;34m(source, state, verbose, nested, first)\u001b[0m\n\u001b[0;32m    666\u001b[0m                 \u001b[0mitem\u001b[0m \u001b[1;33m=\u001b[0m \u001b[1;32mNone\u001b[0m\u001b[1;33m\u001b[0m\u001b[1;33m\u001b[0m\u001b[0m\n\u001b[0;32m    667\u001b[0m             \u001b[1;32mif\u001b[0m \u001b[1;32mnot\u001b[0m \u001b[0mitem\u001b[0m \u001b[1;32mor\u001b[0m \u001b[0mitem\u001b[0m\u001b[1;33m[\u001b[0m\u001b[1;36m0\u001b[0m\u001b[1;33m]\u001b[0m\u001b[1;33m[\u001b[0m\u001b[1;36m0\u001b[0m\u001b[1;33m]\u001b[0m \u001b[1;32mis\u001b[0m \u001b[0mAT\u001b[0m\u001b[1;33m:\u001b[0m\u001b[1;33m\u001b[0m\u001b[1;33m\u001b[0m\u001b[0m\n\u001b[1;32m--> 668\u001b[1;33m                 raise source.error(\"nothing to repeat\",\n\u001b[0m\u001b[0;32m    669\u001b[0m                                    source.tell() - here + len(this))\n\u001b[0;32m    670\u001b[0m             \u001b[1;32mif\u001b[0m \u001b[0mitem\u001b[0m\u001b[1;33m[\u001b[0m\u001b[1;36m0\u001b[0m\u001b[1;33m]\u001b[0m\u001b[1;33m[\u001b[0m\u001b[1;36m0\u001b[0m\u001b[1;33m]\u001b[0m \u001b[1;32min\u001b[0m \u001b[0m_REPEATCODES\u001b[0m\u001b[1;33m:\u001b[0m\u001b[1;33m\u001b[0m\u001b[1;33m\u001b[0m\u001b[0m\n",
      "\u001b[1;31merror\u001b[0m: nothing to repeat at position 0"
     ]
    }
   ],
   "source": [
    "outliers = pd.DataFrame(columns=list(ccrr.columns))\n",
    "for index, row in ccrr.drop_duplicates(['AddressLine1','UnitNumb'])[['AddressLine1','UnitNumb']].iterrows():\n",
    "    address = row['AddressLine1']\n",
    "    unit_number = row['UnitNumb']\n",
    "    # todo: print address and unit_number, wait 15minutes and see what's crashing this next line\n",
    "    subset = ccrr[(ccrr['AddressLine1'].str.contains(address)) & ((ccrr['UnitNumb']==unit_number)|(ccrr['UnitNumb'].str.contains(str(unit_number)))) & (ccrr['PastRentReportDate'].notna())]\n",
    "    subset = subset.sort_values(by='PastRentReportDate',ascending=False).reset_index()\n",
    "    a = subset\n",
    "    if subset.empty:\n",
    "        continue\n",
    "    if (subset['PastAmount'].iloc[0] != subset['RentAmount'].iloc[0]):\n",
    "        outliers = pd.concat([outliers,subset.loc[[0]]])\n",
    "print(outliers)"
   ]
  },
  {
   "cell_type": "code",
   "execution_count": 95,
   "metadata": {},
   "outputs": [
    {
     "data": {
      "text/html": [
       "<div>\n",
       "<style scoped>\n",
       "    .dataframe tbody tr th:only-of-type {\n",
       "        vertical-align: middle;\n",
       "    }\n",
       "\n",
       "    .dataframe tbody tr th {\n",
       "        vertical-align: top;\n",
       "    }\n",
       "\n",
       "    .dataframe thead th {\n",
       "        text-align: right;\n",
       "    }\n",
       "</style>\n",
       "<table border=\"1\" class=\"dataframe\">\n",
       "  <thead>\n",
       "    <tr style=\"text-align: right;\">\n",
       "      <th></th>\n",
       "      <th>AddressLine1</th>\n",
       "      <th>AddressLine2</th>\n",
       "      <th>UnitNumb</th>\n",
       "      <th>NumofBeds</th>\n",
       "      <th>NumOfBaths</th>\n",
       "      <th>YearBuilt</th>\n",
       "      <th>RentAmount</th>\n",
       "      <th>PastRentReportDate</th>\n",
       "      <th>PastAmount</th>\n",
       "      <th>EmcumberedUnit</th>\n",
       "      <th>Unit Status</th>\n",
       "    </tr>\n",
       "  </thead>\n",
       "  <tbody>\n",
       "  </tbody>\n",
       "</table>\n",
       "</div>"
      ],
      "text/plain": [
       "Empty DataFrame\n",
       "Columns: [AddressLine1, AddressLine2, UnitNumb, NumofBeds, NumOfBaths, YearBuilt, RentAmount, PastRentReportDate, PastAmount, EmcumberedUnit, Unit Status]\n",
       "Index: []"
      ]
     },
     "execution_count": 95,
     "metadata": {},
     "output_type": "execute_result"
    }
   ],
   "source": [
    "outliers"
   ]
  },
  {
   "cell_type": "code",
   "execution_count": 2,
   "metadata": {},
   "outputs": [
    {
     "name": "stdout",
     "output_type": "stream",
     "text": [
      "<Response [200]>\n"
     ]
    }
   ],
   "source": [
    "from mapbox import Geocoder\n",
    "\n",
    "geocoder = Geocoder(access_token='pk.eyJ1IjoiaHVnaGZpdHpnZXJhbGQiLCJhIjoiY2xkZGhjaG9wMDNqdTNvdDZ5bG80OXZ3YSJ9.6njmVnJyl0zAtMnM9d8duQ')\n",
    "response = geocoder.forward('4252 Coolidge Ave, Los Angeles, CA 90066')"
   ]
  },
  {
   "cell_type": "code",
   "execution_count": 6,
   "metadata": {},
   "outputs": [
    {
     "data": {
      "text/plain": [
       "{'id': 'address.7082831410212634',\n",
       " 'type': 'Feature',\n",
       " 'place_type': ['address'],\n",
       " 'relevance': 1,\n",
       " 'properties': {'accuracy': 'rooftop'},\n",
       " 'text': 'Coolidge Avenue',\n",
       " 'place_name': '4252 Coolidge Avenue, Los Angeles, California 90066, United States',\n",
       " 'center': [-118.4171, 34.00101],\n",
       " 'geometry': {'type': 'Point', 'coordinates': [-118.4171, 34.00101]},\n",
       " 'address': '4252',\n",
       " 'context': [{'id': 'neighborhood.394022124', 'text': 'McLaughlin'},\n",
       "  {'id': 'postcode.300560108', 'text': '90066'},\n",
       "  {'id': 'place.192407788', 'wikidata': 'Q65', 'text': 'Los Angeles'},\n",
       "  {'id': 'district.14051052',\n",
       "   'wikidata': 'Q104994',\n",
       "   'text': 'Los Angeles County'},\n",
       "  {'id': 'region.419052',\n",
       "   'short_code': 'US-CA',\n",
       "   'wikidata': 'Q99',\n",
       "   'text': 'California'},\n",
       "  {'id': 'country.8940',\n",
       "   'short_code': 'us',\n",
       "   'wikidata': 'Q30',\n",
       "   'text': 'United States'}]}"
      ]
     },
     "execution_count": 6,
     "metadata": {},
     "output_type": "execute_result"
    }
   ],
   "source": [
    "response.json()['features'][0]"
   ]
  },
  {
   "cell_type": "code",
   "execution_count": 7,
   "metadata": {},
   "outputs": [
    {
     "data": {
      "text/plain": [
       "{'id': 'address.5063949685794286',\n",
       " 'type': 'Feature',\n",
       " 'place_type': ['address'],\n",
       " 'relevance': 1,\n",
       " 'properties': {'accuracy': 'rooftop'},\n",
       " 'text': 'Green Valley Circle',\n",
       " 'place_name': '6605 Green Valley Circle, Culver City, California 90230, United States',\n",
       " 'center': [-118.385796, 33.97883],\n",
       " 'geometry': {'type': 'Point', 'coordinates': [-118.385796, 33.97883]},\n",
       " 'address': '6605',\n",
       " 'context': [{'id': 'neighborhood.229092588', 'text': 'Fox Hills'},\n",
       "  {'id': 'postcode.300904172', 'text': '90230'},\n",
       "  {'id': 'place.77531372', 'wikidata': 'Q493378', 'text': 'Culver City'},\n",
       "  {'id': 'district.14051052',\n",
       "   'wikidata': 'Q104994',\n",
       "   'text': 'Los Angeles County'},\n",
       "  {'id': 'region.419052',\n",
       "   'short_code': 'US-CA',\n",
       "   'wikidata': 'Q99',\n",
       "   'text': 'California'},\n",
       "  {'id': 'country.8940',\n",
       "   'short_code': 'us',\n",
       "   'wikidata': 'Q30',\n",
       "   'text': 'United States'}]}"
      ]
     },
     "execution_count": 7,
     "metadata": {},
     "output_type": "execute_result"
    }
   ],
   "source": [
    "address = '6605  GREEN VALLEY CIR  UNIT 113\tCULVER CITY, CA 90230-8083'\n",
    "response = geocoder.forward(address)\n",
    "response.json()['features'][0]"
   ]
  },
  {
   "cell_type": "code",
   "execution_count": 9,
   "metadata": {},
   "outputs": [
    {
     "data": {
      "text/plain": [
       "[('6605', 'AddressNumber'),\n",
       " ('GREEN', 'StreetName'),\n",
       " ('VALLEY', 'StreetName'),\n",
       " ('CIR', 'StreetNamePostType'),\n",
       " ('UNIT', 'OccupancyType'),\n",
       " ('113', 'OccupancyIdentifier'),\n",
       " ('CULVER', 'PlaceName'),\n",
       " ('CITY,', 'PlaceName'),\n",
       " ('CA', 'StateName'),\n",
       " ('90230-8083', 'ZipCode')]"
      ]
     },
     "execution_count": 9,
     "metadata": {},
     "output_type": "execute_result"
    }
   ],
   "source": [
    "import usaddress\n",
    "usaddress.parse(address)"
   ]
  },
  {
   "cell_type": "code",
   "execution_count": 10,
   "metadata": {},
   "outputs": [
    {
     "data": {
      "text/plain": [
       "{'id': 'address.766468067844202',\n",
       " 'type': 'Feature',\n",
       " 'place_type': ['address'],\n",
       " 'relevance': 1,\n",
       " 'properties': {'accuracy': 'rooftop'},\n",
       " 'text': 'Culver Boulevard',\n",
       " 'place_name': '9770 Culver Boulevard, Culver City, California 90232, United States',\n",
       " 'center': [-118.39559, 34.02163],\n",
       " 'geometry': {'type': 'Point', 'coordinates': [-118.39559, 34.02163]},\n",
       " 'address': '9770',\n",
       " 'context': [{'id': 'neighborhood.375500012', 'text': 'Lucerne'},\n",
       "  {'id': 'postcode.300920556', 'text': '90232'},\n",
       "  {'id': 'place.77531372', 'wikidata': 'Q493378', 'text': 'Culver City'},\n",
       "  {'id': 'district.14051052',\n",
       "   'wikidata': 'Q104994',\n",
       "   'text': 'Los Angeles County'},\n",
       "  {'id': 'region.419052',\n",
       "   'short_code': 'US-CA',\n",
       "   'wikidata': 'Q99',\n",
       "   'text': 'California'},\n",
       "  {'id': 'country.8940',\n",
       "   'short_code': 'us',\n",
       "   'wikidata': 'Q30',\n",
       "   'text': 'United States'}]}"
      ]
     },
     "execution_count": 10,
     "metadata": {},
     "output_type": "execute_result"
    }
   ],
   "source": [
    "address = '9770 CULVER BLVD\tCULVER CITY, CA 90232-2703'\n",
    "response = geocoder.forward(address)\n",
    "response.json()['features'][0]"
   ]
  },
  {
   "cell_type": "code",
   "execution_count": 11,
   "metadata": {},
   "outputs": [
    {
     "data": {
      "text/plain": [
       "{'id': 'address.1144368606704674',\n",
       " 'type': 'Feature',\n",
       " 'place_type': ['address'],\n",
       " 'relevance': 1,\n",
       " 'properties': {'accuracy': 'rooftop'},\n",
       " 'text': 'Keystone Avenue',\n",
       " 'place_name': '4396 Keystone Avenue, Culver City, California 90232, United States',\n",
       " 'center': [-118.39549, 34.009255],\n",
       " 'geometry': {'type': 'Point', 'coordinates': [-118.39549, 34.009255]},\n",
       " 'address': '4396',\n",
       " 'context': [{'id': 'neighborhood.91180268', 'text': 'Carlson'},\n",
       "  {'id': 'postcode.300920556', 'text': '90232'},\n",
       "  {'id': 'place.77531372', 'wikidata': 'Q493378', 'text': 'Culver City'},\n",
       "  {'id': 'district.14051052',\n",
       "   'wikidata': 'Q104994',\n",
       "   'text': 'Los Angeles County'},\n",
       "  {'id': 'region.419052',\n",
       "   'short_code': 'US-CA',\n",
       "   'wikidata': 'Q99',\n",
       "   'text': 'California'},\n",
       "  {'id': 'country.8940',\n",
       "   'short_code': 'us',\n",
       "   'wikidata': 'Q30',\n",
       "   'text': 'United States'}]}"
      ]
     },
     "execution_count": 11,
     "metadata": {},
     "output_type": "execute_result"
    }
   ],
   "source": [
    "address = '4396 KEYSTONE AVE\tCULVER CITY, CA 90232-3437'\n",
    "response = geocoder.forward(address)\n",
    "response.json()['features'][0]"
   ]
  }
 ],
 "metadata": {
  "kernelspec": {
   "display_name": "Python 3.9.4 64-bit",
   "language": "python",
   "name": "python3"
  },
  "language_info": {
   "codemirror_mode": {
    "name": "ipython",
    "version": 3
   },
   "file_extension": ".py",
   "mimetype": "text/x-python",
   "name": "python",
   "nbconvert_exporter": "python",
   "pygments_lexer": "ipython3",
   "version": "3.9.4"
  },
  "orig_nbformat": 4,
  "vscode": {
   "interpreter": {
    "hash": "a8a7bd8979a4457ff10482144eb93e8faf46b7074b382aab52ae0a11e763accd"
   }
  }
 },
 "nbformat": 4,
 "nbformat_minor": 2
}
