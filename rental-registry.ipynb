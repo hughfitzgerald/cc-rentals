{
 "cells": [
  {
   "cell_type": "code",
   "execution_count": 2,
   "metadata": {},
   "outputs": [
    {
     "name": "stdout",
     "output_type": "stream",
     "text": [
      "<Response [200]>\n"
     ]
    }
   ],
   "source": [
    "from mapbox import Geocoder\n",
    "\n",
    "geocoder = Geocoder(access_token='pk.eyJ1IjoiaHVnaGZpdHpnZXJhbGQiLCJhIjoiY2xkZGhjaG9wMDNqdTNvdDZ5bG80OXZ3YSJ9.6njmVnJyl0zAtMnM9d8duQ')\n",
    "response = geocoder.forward('4252 Coolidge Ave, Los Angeles, CA 90066')"
   ]
  },
  {
   "cell_type": "code",
   "execution_count": 6,
   "metadata": {},
   "outputs": [
    {
     "data": {
      "text/plain": [
       "{'id': 'address.7082831410212634',\n",
       " 'type': 'Feature',\n",
       " 'place_type': ['address'],\n",
       " 'relevance': 1,\n",
       " 'properties': {'accuracy': 'rooftop'},\n",
       " 'text': 'Coolidge Avenue',\n",
       " 'place_name': '4252 Coolidge Avenue, Los Angeles, California 90066, United States',\n",
       " 'center': [-118.4171, 34.00101],\n",
       " 'geometry': {'type': 'Point', 'coordinates': [-118.4171, 34.00101]},\n",
       " 'address': '4252',\n",
       " 'context': [{'id': 'neighborhood.394022124', 'text': 'McLaughlin'},\n",
       "  {'id': 'postcode.300560108', 'text': '90066'},\n",
       "  {'id': 'place.192407788', 'wikidata': 'Q65', 'text': 'Los Angeles'},\n",
       "  {'id': 'district.14051052',\n",
       "   'wikidata': 'Q104994',\n",
       "   'text': 'Los Angeles County'},\n",
       "  {'id': 'region.419052',\n",
       "   'short_code': 'US-CA',\n",
       "   'wikidata': 'Q99',\n",
       "   'text': 'California'},\n",
       "  {'id': 'country.8940',\n",
       "   'short_code': 'us',\n",
       "   'wikidata': 'Q30',\n",
       "   'text': 'United States'}]}"
      ]
     },
     "execution_count": 6,
     "metadata": {},
     "output_type": "execute_result"
    }
   ],
   "source": [
    "response.json()['features'][0]"
   ]
  },
  {
   "cell_type": "code",
   "execution_count": 7,
   "metadata": {},
   "outputs": [
    {
     "data": {
      "text/plain": [
       "{'id': 'address.5063949685794286',\n",
       " 'type': 'Feature',\n",
       " 'place_type': ['address'],\n",
       " 'relevance': 1,\n",
       " 'properties': {'accuracy': 'rooftop'},\n",
       " 'text': 'Green Valley Circle',\n",
       " 'place_name': '6605 Green Valley Circle, Culver City, California 90230, United States',\n",
       " 'center': [-118.385796, 33.97883],\n",
       " 'geometry': {'type': 'Point', 'coordinates': [-118.385796, 33.97883]},\n",
       " 'address': '6605',\n",
       " 'context': [{'id': 'neighborhood.229092588', 'text': 'Fox Hills'},\n",
       "  {'id': 'postcode.300904172', 'text': '90230'},\n",
       "  {'id': 'place.77531372', 'wikidata': 'Q493378', 'text': 'Culver City'},\n",
       "  {'id': 'district.14051052',\n",
       "   'wikidata': 'Q104994',\n",
       "   'text': 'Los Angeles County'},\n",
       "  {'id': 'region.419052',\n",
       "   'short_code': 'US-CA',\n",
       "   'wikidata': 'Q99',\n",
       "   'text': 'California'},\n",
       "  {'id': 'country.8940',\n",
       "   'short_code': 'us',\n",
       "   'wikidata': 'Q30',\n",
       "   'text': 'United States'}]}"
      ]
     },
     "execution_count": 7,
     "metadata": {},
     "output_type": "execute_result"
    }
   ],
   "source": [
    "address = '6605  GREEN VALLEY CIR  UNIT 113\tCULVER CITY, CA 90230-8083'\n",
    "response = geocoder.forward(address)\n",
    "response.json()['features'][0]"
   ]
  },
  {
   "cell_type": "code",
   "execution_count": 9,
   "metadata": {},
   "outputs": [
    {
     "data": {
      "text/plain": [
       "[('6605', 'AddressNumber'),\n",
       " ('GREEN', 'StreetName'),\n",
       " ('VALLEY', 'StreetName'),\n",
       " ('CIR', 'StreetNamePostType'),\n",
       " ('UNIT', 'OccupancyType'),\n",
       " ('113', 'OccupancyIdentifier'),\n",
       " ('CULVER', 'PlaceName'),\n",
       " ('CITY,', 'PlaceName'),\n",
       " ('CA', 'StateName'),\n",
       " ('90230-8083', 'ZipCode')]"
      ]
     },
     "execution_count": 9,
     "metadata": {},
     "output_type": "execute_result"
    }
   ],
   "source": [
    "import usaddress\n",
    "usaddress.parse(address)"
   ]
  },
  {
   "cell_type": "code",
   "execution_count": 10,
   "metadata": {},
   "outputs": [
    {
     "data": {
      "text/plain": [
       "{'id': 'address.766468067844202',\n",
       " 'type': 'Feature',\n",
       " 'place_type': ['address'],\n",
       " 'relevance': 1,\n",
       " 'properties': {'accuracy': 'rooftop'},\n",
       " 'text': 'Culver Boulevard',\n",
       " 'place_name': '9770 Culver Boulevard, Culver City, California 90232, United States',\n",
       " 'center': [-118.39559, 34.02163],\n",
       " 'geometry': {'type': 'Point', 'coordinates': [-118.39559, 34.02163]},\n",
       " 'address': '9770',\n",
       " 'context': [{'id': 'neighborhood.375500012', 'text': 'Lucerne'},\n",
       "  {'id': 'postcode.300920556', 'text': '90232'},\n",
       "  {'id': 'place.77531372', 'wikidata': 'Q493378', 'text': 'Culver City'},\n",
       "  {'id': 'district.14051052',\n",
       "   'wikidata': 'Q104994',\n",
       "   'text': 'Los Angeles County'},\n",
       "  {'id': 'region.419052',\n",
       "   'short_code': 'US-CA',\n",
       "   'wikidata': 'Q99',\n",
       "   'text': 'California'},\n",
       "  {'id': 'country.8940',\n",
       "   'short_code': 'us',\n",
       "   'wikidata': 'Q30',\n",
       "   'text': 'United States'}]}"
      ]
     },
     "execution_count": 10,
     "metadata": {},
     "output_type": "execute_result"
    }
   ],
   "source": [
    "address = '9770 CULVER BLVD\tCULVER CITY, CA 90232-2703'\n",
    "response = geocoder.forward(address)\n",
    "response.json()['features'][0]"
   ]
  },
  {
   "cell_type": "code",
   "execution_count": 11,
   "metadata": {},
   "outputs": [
    {
     "data": {
      "text/plain": [
       "{'id': 'address.1144368606704674',\n",
       " 'type': 'Feature',\n",
       " 'place_type': ['address'],\n",
       " 'relevance': 1,\n",
       " 'properties': {'accuracy': 'rooftop'},\n",
       " 'text': 'Keystone Avenue',\n",
       " 'place_name': '4396 Keystone Avenue, Culver City, California 90232, United States',\n",
       " 'center': [-118.39549, 34.009255],\n",
       " 'geometry': {'type': 'Point', 'coordinates': [-118.39549, 34.009255]},\n",
       " 'address': '4396',\n",
       " 'context': [{'id': 'neighborhood.91180268', 'text': 'Carlson'},\n",
       "  {'id': 'postcode.300920556', 'text': '90232'},\n",
       "  {'id': 'place.77531372', 'wikidata': 'Q493378', 'text': 'Culver City'},\n",
       "  {'id': 'district.14051052',\n",
       "   'wikidata': 'Q104994',\n",
       "   'text': 'Los Angeles County'},\n",
       "  {'id': 'region.419052',\n",
       "   'short_code': 'US-CA',\n",
       "   'wikidata': 'Q99',\n",
       "   'text': 'California'},\n",
       "  {'id': 'country.8940',\n",
       "   'short_code': 'us',\n",
       "   'wikidata': 'Q30',\n",
       "   'text': 'United States'}]}"
      ]
     },
     "execution_count": 11,
     "metadata": {},
     "output_type": "execute_result"
    }
   ],
   "source": [
    "address = '4396 KEYSTONE AVE\tCULVER CITY, CA 90232-3437'\n",
    "response = geocoder.forward(address)\n",
    "response.json()['features'][0]"
   ]
  }
 ],
 "metadata": {
  "kernelspec": {
   "display_name": "Python 3.9.4 64-bit",
   "language": "python",
   "name": "python3"
  },
  "language_info": {
   "codemirror_mode": {
    "name": "ipython",
    "version": 3
   },
   "file_extension": ".py",
   "mimetype": "text/x-python",
   "name": "python",
   "nbconvert_exporter": "python",
   "pygments_lexer": "ipython3",
   "version": "3.9.4"
  },
  "orig_nbformat": 4,
  "vscode": {
   "interpreter": {
    "hash": "a8a7bd8979a4457ff10482144eb93e8faf46b7074b382aab52ae0a11e763accd"
   }
  }
 },
 "nbformat": 4,
 "nbformat_minor": 2
}
